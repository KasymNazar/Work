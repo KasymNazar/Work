{
 "cells": [
  {
   "cell_type": "markdown",
   "id": "effde1e0",
   "metadata": {},
   "source": [
    "Boolean ex1"
   ]
  },
  {
   "cell_type": "code",
   "execution_count": 1,
   "id": "73d01c9e",
   "metadata": {},
   "outputs": [
    {
     "name": "stdout",
     "output_type": "stream",
     "text": [
      "True\n"
     ]
    }
   ],
   "source": [
    "print(10 > 9)\n",
    "#True"
   ]
  },
  {
   "cell_type": "markdown",
   "id": "b1218251",
   "metadata": {},
   "source": [
    "Boolean ex2"
   ]
  },
  {
   "cell_type": "code",
   "execution_count": 2,
   "id": "82609a7c",
   "metadata": {},
   "outputs": [
    {
     "name": "stdout",
     "output_type": "stream",
     "text": [
      "False\n"
     ]
    }
   ],
   "source": [
    "print(10==9)\n",
    "#False"
   ]
  },
  {
   "cell_type": "markdown",
   "id": "a4da0396",
   "metadata": {},
   "source": [
    "Boolean ex3"
   ]
  },
  {
   "cell_type": "code",
   "execution_count": 3,
   "id": "29182b8e",
   "metadata": {},
   "outputs": [
    {
     "name": "stdout",
     "output_type": "stream",
     "text": [
      "False\n"
     ]
    }
   ],
   "source": [
    "print(10<9)\n",
    "#False"
   ]
  },
  {
   "cell_type": "markdown",
   "id": "ee2f70ac",
   "metadata": {},
   "source": [
    "Boolean ex4"
   ]
  },
  {
   "cell_type": "code",
   "execution_count": 4,
   "id": "7dfe317c",
   "metadata": {},
   "outputs": [
    {
     "name": "stdout",
     "output_type": "stream",
     "text": [
      "True\n"
     ]
    }
   ],
   "source": [
    "print(bool(\"abc\"))\n",
    "#True"
   ]
  },
  {
   "cell_type": "markdown",
   "id": "dd9e64e9",
   "metadata": {},
   "source": [
    "Boolean ex5"
   ]
  },
  {
   "cell_type": "code",
   "execution_count": 5,
   "id": "d10df2fb",
   "metadata": {},
   "outputs": [
    {
     "name": "stdout",
     "output_type": "stream",
     "text": [
      "False\n"
     ]
    }
   ],
   "source": [
    "print(bool(0))\n",
    "#False"
   ]
  },
  {
   "cell_type": "markdown",
   "id": "e762a5b2",
   "metadata": {},
   "source": [
    "Operators ex1"
   ]
  },
  {
   "cell_type": "code",
   "execution_count": 7,
   "id": "be65a1c8",
   "metadata": {},
   "outputs": [
    {
     "name": "stdout",
     "output_type": "stream",
     "text": [
      "50\n"
     ]
    }
   ],
   "source": [
    "print(10*5)"
   ]
  },
  {
   "cell_type": "markdown",
   "id": "dce71e87",
   "metadata": {},
   "source": [
    "Operators ex2"
   ]
  },
  {
   "cell_type": "code",
   "execution_count": 8,
   "id": "44bd56c8",
   "metadata": {},
   "outputs": [
    {
     "name": "stdout",
     "output_type": "stream",
     "text": [
      "5.0\n"
     ]
    }
   ],
   "source": [
    "print(10/2)"
   ]
  },
  {
   "cell_type": "markdown",
   "id": "f6dee7cd",
   "metadata": {},
   "source": [
    "Operators ex3"
   ]
  },
  {
   "cell_type": "code",
   "execution_count": 6,
   "id": "ca25b8a8",
   "metadata": {},
   "outputs": [
    {
     "name": "stdout",
     "output_type": "stream",
     "text": [
      "Yes, apple is a fruit!\n"
     ]
    }
   ],
   "source": [
    "fruits = [\"apple\", \"banana\"]\n",
    "if \"apple\" in fruits:\n",
    "  print(\"Yes, apple is a fruit!\")"
   ]
  },
  {
   "cell_type": "markdown",
   "id": "4a9493e5",
   "metadata": {},
   "source": [
    "Operators ex4"
   ]
  },
  {
   "cell_type": "code",
   "execution_count": 9,
   "id": "46cf19e9",
   "metadata": {},
   "outputs": [
    {
     "name": "stdout",
     "output_type": "stream",
     "text": [
      "5 and 10 is not equal\n"
     ]
    }
   ],
   "source": [
    "if 5!=10:\n",
    "  print(\"5 and 10 is not equal\")"
   ]
  },
  {
   "cell_type": "markdown",
   "id": "d31d8f77",
   "metadata": {},
   "source": [
    "Operators ex5"
   ]
  },
  {
   "cell_type": "code",
   "execution_count": 10,
   "id": "163facb2",
   "metadata": {},
   "outputs": [
    {
     "name": "stdout",
     "output_type": "stream",
     "text": [
      "At least one of the statements is true\n"
     ]
    }
   ],
   "source": [
    "if 5 == 10 or 4 == 4:\n",
    "  print(\"At least one of the statements is true\")"
   ]
  },
  {
   "cell_type": "markdown",
   "id": "06f8d35a",
   "metadata": {},
   "source": [
    "List ex1"
   ]
  },
  {
   "cell_type": "code",
   "execution_count": 11,
   "id": "83419aa9",
   "metadata": {},
   "outputs": [
    {
     "name": "stdout",
     "output_type": "stream",
     "text": [
      "banana\n"
     ]
    }
   ],
   "source": [
    "fruits = [\"apple\", \"banana\", \"cherry\"]\n",
    "print(fruits[1])"
   ]
  },
  {
   "cell_type": "markdown",
   "id": "dc39dd97",
   "metadata": {},
   "source": [
    "List ex2"
   ]
  },
  {
   "cell_type": "code",
   "execution_count": 12,
   "id": "b6b14c40",
   "metadata": {},
   "outputs": [],
   "source": [
    "fruits = [\"apple\", \"banana\", \"cherry\"]\n",
    "fruits[0]=\"kiwi\""
   ]
  },
  {
   "cell_type": "markdown",
   "id": "ce14cfe0",
   "metadata": {},
   "source": [
    "List ex3"
   ]
  },
  {
   "cell_type": "code",
   "execution_count": 13,
   "id": "efbba1f0",
   "metadata": {},
   "outputs": [],
   "source": [
    "fruits = [\"apple\", \"banana\", \"cherry\"]\n",
    "fruits.append(\"orange\")"
   ]
  },
  {
   "cell_type": "markdown",
   "id": "0a0a49c5",
   "metadata": {},
   "source": [
    "List ex4"
   ]
  },
  {
   "cell_type": "code",
   "execution_count": 15,
   "id": "9b5a990c",
   "metadata": {},
   "outputs": [],
   "source": [
    "fruits = [\"apple\", \"banana\", \"cherry\"]\n",
    "fruits.insert(1,\"lemon\")"
   ]
  },
  {
   "cell_type": "markdown",
   "id": "842f7274",
   "metadata": {},
   "source": [
    "List ex5"
   ]
  },
  {
   "cell_type": "code",
   "execution_count": 16,
   "id": "bd255309",
   "metadata": {},
   "outputs": [],
   "source": [
    "fruits = [\"apple\", \"banana\", \"cherry\"]\n",
    "fruits.remove(\"banana\")"
   ]
  },
  {
   "cell_type": "markdown",
   "id": "98d78c7d",
   "metadata": {},
   "source": [
    "List ex6"
   ]
  },
  {
   "cell_type": "code",
   "execution_count": 17,
   "id": "17868d2a",
   "metadata": {},
   "outputs": [
    {
     "name": "stdout",
     "output_type": "stream",
     "text": [
      "cherry\n"
     ]
    }
   ],
   "source": [
    "fruits = [\"apple\", \"banana\", \"cherry\"]\n",
    "print(fruits[-1])"
   ]
  },
  {
   "cell_type": "markdown",
   "id": "16410540",
   "metadata": {},
   "source": [
    "List ex7"
   ]
  },
  {
   "cell_type": "code",
   "execution_count": 18,
   "id": "b5ae273a",
   "metadata": {},
   "outputs": [
    {
     "name": "stdout",
     "output_type": "stream",
     "text": [
      "['cherry', 'orange', 'kiwi']\n"
     ]
    }
   ],
   "source": [
    "fruits = [\"apple\", \"banana\", \"cherry\", \"orange\", \"kiwi\", \"melon\", \"mango\"]\n",
    "print(fruits[2:5])"
   ]
  },
  {
   "cell_type": "markdown",
   "id": "f2ee989a",
   "metadata": {},
   "source": [
    "List ex8"
   ]
  },
  {
   "cell_type": "code",
   "execution_count": 19,
   "id": "52a3d888",
   "metadata": {},
   "outputs": [
    {
     "name": "stdout",
     "output_type": "stream",
     "text": [
      "3\n"
     ]
    }
   ],
   "source": [
    "fruits = [\"apple\", \"banana\", \"cherry\"]\n",
    "print(len(fruits))"
   ]
  },
  {
   "cell_type": "markdown",
   "id": "e550f184",
   "metadata": {},
   "source": [
    "Tuples ex1"
   ]
  },
  {
   "cell_type": "code",
   "execution_count": 20,
   "id": "8f49c55a",
   "metadata": {},
   "outputs": [
    {
     "name": "stdout",
     "output_type": "stream",
     "text": [
      "apple\n"
     ]
    }
   ],
   "source": [
    "fruits = (\"apple\", \"banana\", \"cherry\")\n",
    "print(fruits[0])"
   ]
  },
  {
   "cell_type": "markdown",
   "id": "4a6e47e9",
   "metadata": {},
   "source": [
    "Tuples ex2"
   ]
  },
  {
   "cell_type": "code",
   "execution_count": 21,
   "id": "29e9d657",
   "metadata": {},
   "outputs": [
    {
     "name": "stdout",
     "output_type": "stream",
     "text": [
      "3\n"
     ]
    }
   ],
   "source": [
    "fruits = (\"apple\", \"banana\", \"cherry\")\n",
    "print(len(fruits))"
   ]
  },
  {
   "cell_type": "markdown",
   "id": "da3b66e6",
   "metadata": {},
   "source": [
    "Tuples ex3"
   ]
  },
  {
   "cell_type": "code",
   "execution_count": 22,
   "id": "8992cd2b",
   "metadata": {},
   "outputs": [
    {
     "name": "stdout",
     "output_type": "stream",
     "text": [
      "cherry\n"
     ]
    }
   ],
   "source": [
    "fruits = (\"apple\", \"banana\", \"cherry\")\n",
    "print(fruits[-1])"
   ]
  },
  {
   "cell_type": "markdown",
   "id": "6fe5fe15",
   "metadata": {},
   "source": [
    "Tuples ex4"
   ]
  },
  {
   "cell_type": "code",
   "execution_count": 23,
   "id": "bfe7a908",
   "metadata": {},
   "outputs": [
    {
     "name": "stdout",
     "output_type": "stream",
     "text": [
      "('cherry', 'orange', 'kiwi')\n"
     ]
    }
   ],
   "source": [
    "fruits = (\"apple\", \"banana\", \"cherry\", \"orange\", \"kiwi\", \"melon\", \"mango\")\n",
    "print(fruits[2:5])"
   ]
  },
  {
   "cell_type": "markdown",
   "id": "fd94d12e",
   "metadata": {},
   "source": [
    "Sets ex1"
   ]
  },
  {
   "cell_type": "code",
   "execution_count": 24,
   "id": "551a5cde",
   "metadata": {},
   "outputs": [
    {
     "name": "stdout",
     "output_type": "stream",
     "text": [
      "Yes, apple is a fruit!\n"
     ]
    }
   ],
   "source": [
    "fruits = {\"apple\", \"banana\", \"cherry\"}\n",
    "if \"apple\" in fruits:\n",
    "  print(\"Yes, apple is a fruit!\")"
   ]
  },
  {
   "cell_type": "markdown",
   "id": "8e477a78",
   "metadata": {},
   "source": [
    "Sets ex2"
   ]
  },
  {
   "cell_type": "code",
   "execution_count": 25,
   "id": "e6948864",
   "metadata": {},
   "outputs": [],
   "source": [
    "fruits = {\"apple\", \"banana\", \"cherry\"}\n",
    "fruits.add(\"orange\")"
   ]
  },
  {
   "cell_type": "markdown",
   "id": "e1812d10",
   "metadata": {},
   "source": [
    "Sets ex3"
   ]
  },
  {
   "cell_type": "code",
   "execution_count": 26,
   "id": "3af8675b",
   "metadata": {},
   "outputs": [],
   "source": [
    "fruits = {\"apple\", \"banana\", \"cherry\"}\n",
    "more_fruits = [\"orange\", \"mango\", \"grapes\"]\n",
    "fruits.update(more_fruits)"
   ]
  },
  {
   "cell_type": "markdown",
   "id": "57c6d43e",
   "metadata": {},
   "source": [
    "Sets ex4"
   ]
  },
  {
   "cell_type": "code",
   "execution_count": 27,
   "id": "003af055",
   "metadata": {},
   "outputs": [],
   "source": [
    "fruits = {\"apple\", \"banana\", \"cherry\"}\n",
    "fruits.remove(\"banana\")"
   ]
  },
  {
   "cell_type": "markdown",
   "id": "89033cdc",
   "metadata": {},
   "source": [
    "Sets ex5"
   ]
  },
  {
   "cell_type": "code",
   "execution_count": 28,
   "id": "294848c1",
   "metadata": {},
   "outputs": [],
   "source": [
    "fruits = {\"apple\", \"banana\", \"cherry\"}\n",
    "fruits.discard(\"banana\")"
   ]
  },
  {
   "cell_type": "markdown",
   "id": "21985bcb",
   "metadata": {},
   "source": [
    "Dictionaries ex1"
   ]
  },
  {
   "cell_type": "code",
   "execution_count": 29,
   "id": "26c322f7",
   "metadata": {},
   "outputs": [
    {
     "name": "stdout",
     "output_type": "stream",
     "text": [
      "Mustang\n"
     ]
    }
   ],
   "source": [
    "car =  {\n",
    "  \"brand\": \"Ford\",\n",
    "  \"model\": \"Mustang\",\n",
    "  \"year\": 1964\n",
    "}\n",
    "print(car.get(\"model\"))"
   ]
  },
  {
   "cell_type": "markdown",
   "id": "d44f4c2c",
   "metadata": {},
   "source": [
    "Dictionaries ex2"
   ]
  },
  {
   "cell_type": "code",
   "execution_count": 32,
   "id": "96ae4e83",
   "metadata": {},
   "outputs": [],
   "source": [
    "car =  {\n",
    "  \"brand\": \"Ford\",\n",
    "  \"model\": \"Mustang\",\n",
    "  \"year\": 1964\n",
    "}\n",
    "car[\"year\"]= 2020"
   ]
  },
  {
   "cell_type": "markdown",
   "id": "8ac3d915",
   "metadata": {},
   "source": [
    "Dictionaries ex3"
   ]
  },
  {
   "cell_type": "code",
   "execution_count": 33,
   "id": "82f4eba5",
   "metadata": {},
   "outputs": [],
   "source": [
    "car =\t{\n",
    "  \"brand\": \"Ford\",\n",
    "  \"model\": \"Mustang\",\n",
    "  \"year\": 1964\n",
    "}\n",
    "car[\"color\"]=\"red\""
   ]
  },
  {
   "cell_type": "markdown",
   "id": "7a53d336",
   "metadata": {},
   "source": [
    "Dictionaries ex4"
   ]
  },
  {
   "cell_type": "code",
   "execution_count": 35,
   "id": "1682a449",
   "metadata": {},
   "outputs": [
    {
     "data": {
      "text/plain": [
       "'Mustang'"
      ]
     },
     "execution_count": 35,
     "metadata": {},
     "output_type": "execute_result"
    }
   ],
   "source": [
    "car =\t{\n",
    "  \"brand\": \"Ford\",\n",
    "  \"model\": \"Mustang\",\n",
    "  \"year\": 1964\n",
    "}\n",
    "car.pop(\"model\")"
   ]
  },
  {
   "cell_type": "markdown",
   "id": "1f0c6716",
   "metadata": {},
   "source": [
    "Dictionaries ex5"
   ]
  },
  {
   "cell_type": "code",
   "execution_count": 36,
   "id": "4df11bf9",
   "metadata": {},
   "outputs": [],
   "source": [
    "car =\t{\n",
    "  \"brand\": \"Ford\",\n",
    "  \"model\": \"Mustang\",\n",
    "  \"year\": 1964\n",
    "}\n",
    "car.clear()"
   ]
  },
  {
   "cell_type": "markdown",
   "id": "508e674c",
   "metadata": {},
   "source": [
    "if ... else ex1"
   ]
  },
  {
   "cell_type": "code",
   "execution_count": 37,
   "id": "4c52ea3a",
   "metadata": {},
   "outputs": [
    {
     "name": "stdout",
     "output_type": "stream",
     "text": [
      "Hello World\n"
     ]
    }
   ],
   "source": [
    "a = 50\n",
    "b = 10\n",
    "if a>b:\n",
    "  print(\"Hello World\")"
   ]
  },
  {
   "cell_type": "markdown",
   "id": "67a40a31",
   "metadata": {},
   "source": [
    "if ... else ex2"
   ]
  },
  {
   "cell_type": "code",
   "execution_count": 38,
   "id": "6c15fc6b",
   "metadata": {},
   "outputs": [
    {
     "name": "stdout",
     "output_type": "stream",
     "text": [
      "Hello World\n"
     ]
    }
   ],
   "source": [
    "a = 50\n",
    "b = 10\n",
    "if a!=b:\n",
    "  print(\"Hello World\")"
   ]
  },
  {
   "cell_type": "markdown",
   "id": "43feb1fd",
   "metadata": {},
   "source": [
    "if ... else ex3"
   ]
  },
  {
   "cell_type": "code",
   "execution_count": 39,
   "id": "1310b61e",
   "metadata": {},
   "outputs": [
    {
     "name": "stdout",
     "output_type": "stream",
     "text": [
      "No\n"
     ]
    }
   ],
   "source": [
    "a = 50\n",
    "b = 10\n",
    "if a==b:\n",
    "  print(\"Yes\")\n",
    "else:\n",
    "  print(\"No\")"
   ]
  },
  {
   "cell_type": "markdown",
   "id": "79b6e9f5",
   "metadata": {},
   "source": [
    "if ... else ex4"
   ]
  },
  {
   "cell_type": "code",
   "execution_count": 40,
   "id": "c197c5fd",
   "metadata": {},
   "outputs": [
    {
     "name": "stdout",
     "output_type": "stream",
     "text": [
      "2\n"
     ]
    }
   ],
   "source": [
    "a = 50\n",
    "b = 10\n",
    "if a==b:\n",
    "  print(\"1\")\n",
    "elif a>b:\n",
    "  print(\"2\")\n",
    "else:\n",
    "  print(\"3\")"
   ]
  },
  {
   "cell_type": "markdown",
   "id": "b30a6bc2",
   "metadata": {},
   "source": [
    "if ... else ex5"
   ]
  },
  {
   "cell_type": "code",
   "execution_count": 41,
   "id": "d7248ea8",
   "metadata": {},
   "outputs": [],
   "source": [
    "if a == b and c == d:\n",
    "  print(\"Hello\")"
   ]
  },
  {
   "cell_type": "markdown",
   "id": "372fdc2a",
   "metadata": {},
   "source": [
    "if ... else ex6"
   ]
  },
  {
   "cell_type": "code",
   "execution_count": null,
   "id": "c43e0d49",
   "metadata": {},
   "outputs": [],
   "source": [
    "if a == b or c == d:\n",
    "  print(\"Hello\")"
   ]
  },
  {
   "cell_type": "markdown",
   "id": "e32656cf",
   "metadata": {},
   "source": [
    "if ... else ex7"
   ]
  },
  {
   "cell_type": "code",
   "execution_count": 45,
   "id": "81df538e",
   "metadata": {},
   "outputs": [
    {
     "name": "stdout",
     "output_type": "stream",
     "text": [
      "Five is greater than two!\n"
     ]
    }
   ],
   "source": [
    "if 5 > 2:\n",
    "    print(\"Five is greater than two!\")"
   ]
  },
  {
   "cell_type": "markdown",
   "id": "acbce84d",
   "metadata": {},
   "source": [
    "if ... else ex8"
   ]
  },
  {
   "cell_type": "code",
   "execution_count": 44,
   "id": "0a885c4c",
   "metadata": {},
   "outputs": [
    {
     "name": "stdout",
     "output_type": "stream",
     "text": [
      "Five is greater than two!\n"
     ]
    }
   ],
   "source": [
    "if 5 > 2:print(\"Five is greater than two!\")"
   ]
  },
  {
   "cell_type": "markdown",
   "id": "5eb14069",
   "metadata": {},
   "source": [
    "if ... else ex9"
   ]
  },
  {
   "cell_type": "code",
   "execution_count": 43,
   "id": "9f689f4c",
   "metadata": {},
   "outputs": [
    {
     "name": "stdout",
     "output_type": "stream",
     "text": [
      "Yes\n"
     ]
    }
   ],
   "source": [
    "print(\"Yes\") if 5 > 2 else print(\"No\")"
   ]
  },
  {
   "cell_type": "markdown",
   "id": "88b9cd47",
   "metadata": {},
   "source": [
    "While Loops ex1"
   ]
  },
  {
   "cell_type": "code",
   "execution_count": 46,
   "id": "5f38f547",
   "metadata": {},
   "outputs": [
    {
     "name": "stdout",
     "output_type": "stream",
     "text": [
      "1\n",
      "2\n",
      "3\n",
      "4\n",
      "5\n"
     ]
    }
   ],
   "source": [
    "i = 1\n",
    "while i < 6:\n",
    "  print(i)\n",
    "  i += 1"
   ]
  },
  {
   "cell_type": "markdown",
   "id": "96601b71",
   "metadata": {},
   "source": [
    "While Loops ex2"
   ]
  },
  {
   "cell_type": "code",
   "execution_count": 49,
   "id": "2ae24bc3",
   "metadata": {},
   "outputs": [],
   "source": [
    "i = 1\n",
    "while i < 6:\n",
    "  if i == 3:\n",
    "    break\n",
    "  i += 1"
   ]
  },
  {
   "cell_type": "markdown",
   "id": "61af60a7",
   "metadata": {},
   "source": [
    "While Loops ex3"
   ]
  },
  {
   "cell_type": "code",
   "execution_count": 50,
   "id": "7e8db377",
   "metadata": {},
   "outputs": [
    {
     "name": "stdout",
     "output_type": "stream",
     "text": [
      "1\n",
      "2\n",
      "4\n",
      "5\n",
      "6\n"
     ]
    }
   ],
   "source": [
    "i = 0\n",
    "while i < 6:\n",
    "  i += 1\n",
    "  if i == 3:\n",
    "    continue\n",
    "  print(i)"
   ]
  },
  {
   "cell_type": "markdown",
   "id": "c7a7e1e6",
   "metadata": {},
   "source": [
    "While Loops ex4"
   ]
  },
  {
   "cell_type": "code",
   "execution_count": 51,
   "id": "71dc4bc6",
   "metadata": {},
   "outputs": [
    {
     "name": "stdout",
     "output_type": "stream",
     "text": [
      "1\n",
      "2\n",
      "3\n",
      "4\n",
      "5\n",
      "i is no longer less than 6\n"
     ]
    }
   ],
   "source": [
    "i = 1\n",
    "while i < 6:\n",
    "  print(i)\n",
    "  i += 1\n",
    "else:\n",
    "  print(\"i is no longer less than 6\")"
   ]
  },
  {
   "cell_type": "markdown",
   "id": "dfc5f33f",
   "metadata": {},
   "source": [
    "For Loops ex1"
   ]
  },
  {
   "cell_type": "code",
   "execution_count": 52,
   "id": "e6a7bdaf",
   "metadata": {},
   "outputs": [
    {
     "name": "stdout",
     "output_type": "stream",
     "text": [
      "apple\n",
      "banana\n",
      "cherry\n"
     ]
    }
   ],
   "source": [
    "fruits = [\"apple\", \"banana\", \"cherry\"]\n",
    "for x in fruits :\n",
    "  print(x)"
   ]
  },
  {
   "cell_type": "markdown",
   "id": "b5b80a46",
   "metadata": {},
   "source": [
    "For Loops ex2"
   ]
  },
  {
   "cell_type": "code",
   "execution_count": 53,
   "id": "8f8605df",
   "metadata": {},
   "outputs": [
    {
     "name": "stdout",
     "output_type": "stream",
     "text": [
      "apple\n",
      "cherry\n"
     ]
    }
   ],
   "source": [
    "fruits = [\"apple\", \"banana\", \"cherry\"]\n",
    "for x in fruits:\n",
    "  if x == \"banana\":\n",
    "    continue\n",
    "  print(x)"
   ]
  },
  {
   "cell_type": "markdown",
   "id": "722f88b5",
   "metadata": {},
   "source": [
    "For Loops ex3"
   ]
  },
  {
   "cell_type": "code",
   "execution_count": 55,
   "id": "f061f894",
   "metadata": {},
   "outputs": [
    {
     "name": "stdout",
     "output_type": "stream",
     "text": [
      "0\n",
      "1\n",
      "2\n",
      "3\n",
      "4\n",
      "5\n"
     ]
    }
   ],
   "source": [
    "for x in range(6):\n",
    "  print(x)"
   ]
  },
  {
   "cell_type": "markdown",
   "id": "7a02cbcd",
   "metadata": {},
   "source": [
    "For Loops ex4"
   ]
  },
  {
   "cell_type": "code",
   "execution_count": 56,
   "id": "1d75063d",
   "metadata": {},
   "outputs": [
    {
     "name": "stdout",
     "output_type": "stream",
     "text": [
      "apple\n"
     ]
    }
   ],
   "source": [
    "fruits = [\"apple\", \"banana\", \"cherry\"]\n",
    "for x in fruits:\n",
    "  if x == \"banana\":    \n",
    "    break\n",
    "  print(x)"
   ]
  }
 ],
 "metadata": {
  "kernelspec": {
   "display_name": "Python 3 (ipykernel)",
   "language": "python",
   "name": "python3"
  },
  "language_info": {
   "codemirror_mode": {
    "name": "ipython",
    "version": 3
   },
   "file_extension": ".py",
   "mimetype": "text/x-python",
   "name": "python",
   "nbconvert_exporter": "python",
   "pygments_lexer": "ipython3",
   "version": "3.9.13"
  }
 },
 "nbformat": 4,
 "nbformat_minor": 5
}
