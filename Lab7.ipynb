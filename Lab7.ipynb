{
 "cells": [
  {
   "cell_type": "markdown",
   "id": "9493abb3",
   "metadata": {},
   "source": [
    "Clock"
   ]
  },
  {
   "cell_type": "code",
   "execution_count": null,
   "id": "8aa0190e",
   "metadata": {},
   "outputs": [],
   "source": [
    "from datetime import datetime \n",
    "import pygame \n",
    "import os\n",
    "pygame.init() \n",
    "screen=pygame.display.set_mode((400,400)) \n",
    "a = datetime.now() \n",
    "image = pygame.image.load(\"C:/Users/Kasym_Nazar/Downloads/photo_5314738359551248550_x.jpg\") \n",
    "image = pygame.transform.scale(image, (400, 400)) \n",
    "handl = pygame.image.load(\"C:/Users/Kasym_Nazar/Downloads/photo_5314738359551248557_m.jpg\")  \n",
    "handl.set_colorkey((255,255,255))\n",
    "handl = pygame.transform.scale(handl, (200, 200)) \n",
    "handr =pygame.image.load(\"C:/Users/Kasym_Nazar/Downloads/photo_5314738359551248556_m.jpg\")\n",
    "handr.set_colorkey((255,255,255))\n",
    "handr = pygame.transform.scale(handr, (200, 200)) \n",
    "#Left hand\n",
    "def left_hand(surf, image, topleft, angle):  \n",
    "    rotated_image = pygame.transform.rotate(image, angle) \n",
    "    new_rect = rotated_image.get_rect(center = image.get_rect(topleft = topleft).center) \n",
    "    surf.blit(rotated_image, new_rect) \n",
    "#Right hand\n",
    "def right_hand(surf, image, topleft, angle):   \n",
    "    rotated_image = pygame.transform.rotate(image, angle) \n",
    "    new_rect = rotated_image.get_rect(center = image.get_rect(topleft = topleft).center) \n",
    "    surf.blit(rotated_image, new_rect) \n",
    "#Angles of MC's hands\n",
    "anglel=(51-a.second)*6 \n",
    "angleh=308-(a.minute*6) \n",
    "#Coordinates\n",
    "x=100 \n",
    "y=80 \n",
    "running = True \n",
    "n=a.second \n",
    "while running: \n",
    "    #Another variable for time \n",
    "    b=datetime.now() \n",
    "    screen.fill((255,255,255)) \n",
    "    #MC\n",
    "    screen.blit(image,(0,0))\n",
    "    for event in pygame.event.get(): \n",
    "        if event.type==pygame.QUIT: \n",
    "            pygame.quit() \n",
    "            exit() \n",
    "    #Right and left hands moving\n",
    "    left_hand(screen, handl, [x,y], anglel) \n",
    "    right_hand(screen,handr,[x,y], angleh) \n",
    "     \n",
    "    pygame.display.update()   \n",
    "    \n",
    "    if b.second>=0 and b.second !=n: \n",
    "        n=b.second \n",
    "        anglel-=6 \n",
    "    if b.second==0: \n",
    "        angleh-=0.1 \n",
    "    print(b.second)"
   ]
  },
  {
   "cell_type": "markdown",
   "id": "8129f8ab",
   "metadata": {},
   "source": [
    "Player"
   ]
  },
  {
   "cell_type": "code",
   "execution_count": null,
   "id": "6e6dd278",
   "metadata": {},
   "outputs": [],
   "source": [
    "import pygame \n",
    "pygame.init()\n",
    "sc=pygame.display.set_mode((300,350))\n",
    "white=(255,255,255)\n",
    "clock= pygame.time.Clock()\n",
    "\n",
    "\n",
    "_currently_playing_song=None\n",
    "stop=False\n",
    "\n",
    "\n",
    "_song = [\"music/VALORANT - Die For You.mp3\",\"music/Imagine Dragons - thunder.mp3\",\"music/Imagine Dragons - Bones.mp3\"]\n",
    "i=0\n",
    "pygame.mixer.music.load(_song[i])\n",
    "pygame.mixer.music.play()\n",
    "size=len(_song)\n",
    "while True:\n",
    "    for event in pygame.event.get():\n",
    "            if event.type == pygame.QUIT:\n",
    "                    pygame.quit()\n",
    "    pressed = pygame.key.get_pressed()  \n",
    "    \n",
    "    if pressed[pygame.K_SPACE]:\n",
    "        stop = not stop\n",
    "        if stop == True:\n",
    "            pygame.mixer.music.pause()\n",
    "        if stop == False:\n",
    "            pygame.mixer.music.unpause()\n",
    "    if pressed[pygame.K_LEFT]:\n",
    "        k=i\n",
    "        i-=1\n",
    "        if i<0:i=0\n",
    "        if i==k: continue\n",
    "        pygame.mixer.music.load(_song[i])\n",
    "        pygame.mixer.music.play()\n",
    "    if pressed[pygame.K_RIGHT]:\n",
    "        k=i\n",
    "        i+=1\n",
    "        if i>(size-1):i=(size-1)\n",
    "        if i==k:continue\n",
    "        pygame.mixer.music.load(_song[i])\n",
    "        pygame.mixer.music.play()\n",
    "    #   text = pygame.font.SysFont('Times New Roman', 50).render(_song[i], False, white)\n",
    "    clock.tick(15)"
   ]
  },
  {
   "cell_type": "markdown",
   "id": "16109abb",
   "metadata": {},
   "source": [
    "Ball"
   ]
  },
  {
   "cell_type": "code",
   "execution_count": 1,
   "id": "bc9f0528",
   "metadata": {},
   "outputs": [
    {
     "name": "stdout",
     "output_type": "stream",
     "text": [
      "pygame 2.3.0 (SDL 2.24.2, Python 3.9.13)\n",
      "Hello from the pygame community. https://www.pygame.org/contribute.html\n"
     ]
    }
   ],
   "source": [
    "import pygame\n",
    "\n",
    "pygame.init()\n",
    "screen = pygame.display.set_mode((1000, 700))\n",
    "done = False\n",
    "is_red = (255,0,0)\n",
    "x = 30\n",
    "y = 30\n",
    "\n",
    "clock = pygame.time.Clock()\n",
    "\n",
    "while not done:\n",
    "        for event in pygame.event.get():\n",
    "                if event.type == pygame.QUIT:\n",
    "                        done = True\n",
    "        \n",
    "        pressed = pygame.key.get_pressed()\n",
    "        if y>=0+25:\n",
    "            if pressed[pygame.K_UP]: y -= 20\n",
    "        if y<=700-25:\n",
    "            if pressed[pygame.K_DOWN]: y += 20\n",
    "        if x>=0+25:\n",
    "            if pressed[pygame.K_LEFT]: x -= 20\n",
    "        if x<=1000-25:\n",
    "            if pressed[pygame.K_RIGHT]: x += 20\n",
    "        \n",
    "        screen.fill((255, 255, 255))\n",
    "        color = is_red\n",
    "        pygame.draw.circle(screen, color,(x, y),25)\n",
    "        \n",
    "        pygame.display.flip()\n",
    "        clock.tick(120)"
   ]
  },
  {
   "cell_type": "code",
   "execution_count": null,
   "id": "b1c21262",
   "metadata": {},
   "outputs": [],
   "source": []
  }
 ],
 "metadata": {
  "kernelspec": {
   "display_name": "Python 3 (ipykernel)",
   "language": "python",
   "name": "python3"
  },
  "language_info": {
   "codemirror_mode": {
    "name": "ipython",
    "version": 3
   },
   "file_extension": ".py",
   "mimetype": "text/x-python",
   "name": "python",
   "nbconvert_exporter": "python",
   "pygments_lexer": "ipython3",
   "version": "3.9.13"
  }
 },
 "nbformat": 4,
 "nbformat_minor": 5
}
