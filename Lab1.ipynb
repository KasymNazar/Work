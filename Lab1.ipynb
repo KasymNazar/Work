{
 "cells": [
  {
   "cell_type": "markdown",
   "id": "ae527b00",
   "metadata": {},
   "source": [
    "Syntax ex1"
   ]
  },
  {
   "cell_type": "code",
   "execution_count": 1,
   "id": "03edadf2",
   "metadata": {},
   "outputs": [
    {
     "name": "stdout",
     "output_type": "stream",
     "text": [
      "Hello World\n"
     ]
    }
   ],
   "source": [
    "print(\"Hello World\")"
   ]
  },
  {
   "cell_type": "markdown",
   "id": "7dc98db2",
   "metadata": {},
   "source": [
    "Syntax ex2"
   ]
  },
  {
   "cell_type": "code",
   "execution_count": 1,
   "id": "c89bd5c7",
   "metadata": {},
   "outputs": [
    {
     "name": "stdout",
     "output_type": "stream",
     "text": [
      "Five is greater than two\n"
     ]
    }
   ],
   "source": [
    "if 5>2:\n",
    "    print(\"Five is greater than two\")"
   ]
  },
  {
   "cell_type": "markdown",
   "id": "0720e36a",
   "metadata": {},
   "source": [
    "Comments ex1"
   ]
  },
  {
   "cell_type": "code",
   "execution_count": 2,
   "id": "fcae9725",
   "metadata": {},
   "outputs": [
    {
     "name": "stdout",
     "output_type": "stream",
     "text": [
      "Hello World\n"
     ]
    }
   ],
   "source": [
    "#this is a comment\n"
   ]
  },
  {
   "cell_type": "markdown",
   "id": "d5e941fa",
   "metadata": {},
   "source": [
    "Comments ex2"
   ]
  },
  {
   "cell_type": "code",
   "execution_count": 3,
   "id": "91ec6603",
   "metadata": {},
   "outputs": [
    {
     "name": "stdout",
     "output_type": "stream",
     "text": [
      "Hello world\n"
     ]
    }
   ],
   "source": [
    "\"\"\"\n",
    "This is a comment\n",
    "written in \n",
    "more than just one line\n",
    "\"\"\""
   ]
  },
  {
   "cell_type": "markdown",
   "id": "cf0fba0c",
   "metadata": {},
   "source": [
    "Variables ex1"
   ]
  },
  {
   "cell_type": "code",
   "execution_count": 5,
   "id": "8faae4d3",
   "metadata": {},
   "outputs": [
    {
     "name": "stdout",
     "output_type": "stream",
     "text": [
      "John\n",
      "5\n"
     ]
    }
   ],
   "source": [
    "carname = \"Volvo\""
   ]
  },
  {
   "cell_type": "markdown",
   "id": "20f12e3b",
   "metadata": {},
   "source": [
    "Variables ex2"
   ]
  },
  {
   "cell_type": "code",
   "execution_count": 6,
   "id": "60a33b60",
   "metadata": {},
   "outputs": [],
   "source": [
    "x = 50"
   ]
  },
  {
   "cell_type": "markdown",
   "id": "869ff71f",
   "metadata": {},
   "source": [
    "Variables ex3"
   ]
  },
  {
   "cell_type": "code",
   "execution_count": 7,
   "id": "1cd0c1e9",
   "metadata": {},
   "outputs": [
    {
     "name": "stdout",
     "output_type": "stream",
     "text": [
      "<class 'int'>\n",
      "<class 'str'>\n"
     ]
    }
   ],
   "source": [
    "x = 5\n",
    "y = 10 \n",
    "print (x + y)"
   ]
  },
  {
   "cell_type": "markdown",
   "id": "32c44253",
   "metadata": {},
   "source": [
    "Variables ex4"
   ]
  },
  {
   "cell_type": "code",
   "execution_count": 8,
   "id": "b580122c",
   "metadata": {},
   "outputs": [],
   "source": [
    "x = 5\n",
    "y = 10 \n",
    "z = x + y\n",
    "print(z)"
   ]
  },
  {
   "cell_type": "markdown",
   "id": "16254c04",
   "metadata": {},
   "source": [
    "Variables ex5"
   ]
  },
  {
   "cell_type": "code",
   "execution_count": 9,
   "id": "bf319bed",
   "metadata": {},
   "outputs": [],
   "source": [
    "myfirst_name = \"John\""
   ]
  },
  {
   "cell_type": "markdown",
   "id": "02635759",
   "metadata": {},
   "source": [
    "Variables ex6"
   ]
  },
  {
   "cell_type": "code",
   "execution_count": 10,
   "id": "5ed6f189",
   "metadata": {},
   "outputs": [],
   "source": [
    "x = y = z = \"Orange\""
   ]
  },
  {
   "cell_type": "markdown",
   "id": "8a4ef303",
   "metadata": {},
   "source": [
    "Variables ex7"
   ]
  },
  {
   "cell_type": "markdown",
   "id": "6d20f055",
   "metadata": {},
   "source": [
    "def myfunc():\n",
    "    global x \n",
    "    x = \"fantastic\""
   ]
  },
  {
   "cell_type": "markdown",
   "id": "eee8a69e",
   "metadata": {},
   "source": [
    "Data Types ex1"
   ]
  },
  {
   "cell_type": "code",
   "execution_count": null,
   "id": "8371264f",
   "metadata": {},
   "outputs": [],
   "source": [
    "x = 5\n",
    "print (type(x))\n",
    "# int"
   ]
  },
  {
   "cell_type": "markdown",
   "id": "2079559e",
   "metadata": {},
   "source": [
    "Data Types ex2"
   ]
  },
  {
   "cell_type": "code",
   "execution_count": null,
   "id": "0c0be946",
   "metadata": {},
   "outputs": [],
   "source": [
    "x = \"Hello World\"\n",
    "print (type(x))\n",
    "# str"
   ]
  },
  {
   "cell_type": "markdown",
   "id": "e819cd5a",
   "metadata": {},
   "source": [
    "Data Types ex3"
   ]
  },
  {
   "cell_type": "code",
   "execution_count": null,
   "id": "adf6c1bf",
   "metadata": {},
   "outputs": [],
   "source": [
    "x = 20.5\n",
    "print(type(x))\n",
    "#float"
   ]
  },
  {
   "cell_type": "markdown",
   "id": "c1e4328a",
   "metadata": {},
   "source": [
    "Data Types ex4"
   ]
  },
  {
   "cell_type": "code",
   "execution_count": null,
   "id": "579d0c35",
   "metadata": {},
   "outputs": [],
   "source": [
    "x = [\"apple\",\"banana\",\"cherry\"]\n",
    "print(type(x))\n",
    "# list"
   ]
  },
  {
   "cell_type": "markdown",
   "id": "85de34c9",
   "metadata": {},
   "source": [
    "Data Types ex5"
   ]
  },
  {
   "cell_type": "code",
   "execution_count": null,
   "id": "32f3f719",
   "metadata": {},
   "outputs": [],
   "source": [
    "x = (\"aplle\", \"banana\", \"cherry\")\n",
    "print (type(x))\n",
    "# tuple"
   ]
  },
  {
   "cell_type": "markdown",
   "id": "24e95b02",
   "metadata": {},
   "source": [
    "Data Types ex6"
   ]
  },
  {
   "cell_type": "code",
   "execution_count": null,
   "id": "2b761489",
   "metadata": {},
   "outputs": [],
   "source": [
    "x = {\"name\": \"John\", \"age\": 36}\n",
    "print (type(x))\n",
    "# dict"
   ]
  },
  {
   "cell_type": "markdown",
   "id": "4acddb32",
   "metadata": {},
   "source": [
    "Data Types ex7"
   ]
  },
  {
   "cell_type": "code",
   "execution_count": null,
   "id": "456d8fe6",
   "metadata": {},
   "outputs": [],
   "source": [
    "x = True\n",
    "print(type(x))\n",
    "# bool"
   ]
  },
  {
   "cell_type": "markdown",
   "id": "ddb4a51d",
   "metadata": {},
   "source": [
    "Numbers ex1"
   ]
  },
  {
   "cell_type": "code",
   "execution_count": null,
   "id": "e5ad3911",
   "metadata": {},
   "outputs": [],
   "source": [
    "x = 5\n",
    "x = float(x)"
   ]
  },
  {
   "cell_type": "markdown",
   "id": "ecdc72ef",
   "metadata": {},
   "source": [
    "Numbers ex2"
   ]
  },
  {
   "cell_type": "code",
   "execution_count": null,
   "id": "bf364000",
   "metadata": {},
   "outputs": [],
   "source": [
    "x = 5.5\n",
    "x = int(x)"
   ]
  },
  {
   "cell_type": "markdown",
   "id": "abb6e3f1",
   "metadata": {},
   "source": [
    "Numbers ex3"
   ]
  },
  {
   "cell_type": "code",
   "execution_count": null,
   "id": "c0d85638",
   "metadata": {},
   "outputs": [],
   "source": [
    "x = 5\n",
    "x = complex(x)"
   ]
  },
  {
   "cell_type": "markdown",
   "id": "fdfc87ed",
   "metadata": {},
   "source": [
    "String ex1"
   ]
  },
  {
   "cell_type": "code",
   "execution_count": null,
   "id": "bb7fa648",
   "metadata": {},
   "outputs": [],
   "source": [
    "x = \"Hello World\"\n",
    "print(len(x))"
   ]
  },
  {
   "cell_type": "markdown",
   "id": "6e1cdd41",
   "metadata": {},
   "source": [
    "String ex2"
   ]
  },
  {
   "cell_type": "code",
   "execution_count": null,
   "id": "f47ed325",
   "metadata": {},
   "outputs": [],
   "source": [
    "txt = \"Hello World\"\n",
    "x = txt[0]"
   ]
  },
  {
   "cell_type": "markdown",
   "id": "efa7018d",
   "metadata": {},
   "source": [
    "String ex3"
   ]
  },
  {
   "cell_type": "code",
   "execution_count": null,
   "id": "17920523",
   "metadata": {},
   "outputs": [],
   "source": [
    "txt = \"Hello World\"\n",
    "x = txt[2:5]"
   ]
  },
  {
   "cell_type": "markdown",
   "id": "e5dc5dbb",
   "metadata": {},
   "source": [
    "String ex4"
   ]
  },
  {
   "cell_type": "code",
   "execution_count": null,
   "id": "eeff3cdb",
   "metadata": {},
   "outputs": [],
   "source": [
    "txt = \" Hello World \"\n",
    "x = txt.strip()"
   ]
  },
  {
   "cell_type": "markdown",
   "id": "6b23b7cb",
   "metadata": {},
   "source": [
    "String ex5"
   ]
  },
  {
   "cell_type": "code",
   "execution_count": null,
   "id": "c46ee1d6",
   "metadata": {},
   "outputs": [],
   "source": [
    "txt = \"Hello World\"\n",
    "txt = txt.upper()"
   ]
  },
  {
   "cell_type": "markdown",
   "id": "58774a18",
   "metadata": {},
   "source": [
    "String ex6"
   ]
  },
  {
   "cell_type": "code",
   "execution_count": null,
   "id": "71e4a254",
   "metadata": {},
   "outputs": [],
   "source": [
    "txt = \"Hello World\"\n",
    "txt = txt.lower()"
   ]
  },
  {
   "cell_type": "markdown",
   "id": "703f9f85",
   "metadata": {},
   "source": [
    "String ex7"
   ]
  },
  {
   "cell_type": "code",
   "execution_count": null,
   "id": "9bd797a2",
   "metadata": {},
   "outputs": [],
   "source": [
    "txt = \"Hello World\"\n",
    "txt = txt.replace(\"H\",\"j\")"
   ]
  },
  {
   "cell_type": "markdown",
   "id": "4acf1be7",
   "metadata": {},
   "source": [
    "String ex8"
   ]
  },
  {
   "cell_type": "code",
   "execution_count": null,
   "id": "4c7650ac",
   "metadata": {},
   "outputs": [],
   "source": [
    "age = 36\n",
    "txt = \"My name is John, and I am {}\"\n",
    "print(txt.format(age))"
   ]
  }
 ],
 "metadata": {
  "kernelspec": {
   "display_name": "Python 3 (ipykernel)",
   "language": "python",
   "name": "python3"
  },
  "language_info": {
   "codemirror_mode": {
    "name": "ipython",
    "version": 3
   },
   "file_extension": ".py",
   "mimetype": "text/x-python",
   "name": "python",
   "nbconvert_exporter": "python",
   "pygments_lexer": "ipython3",
   "version": "3.9.13"
  }
 },
 "nbformat": 4,
 "nbformat_minor": 5
}
