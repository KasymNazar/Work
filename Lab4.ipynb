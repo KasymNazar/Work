{
 "cells": [
  {
   "cell_type": "markdown",
   "id": "e554c000",
   "metadata": {},
   "source": [
    "Generators ex1"
   ]
  },
  {
   "cell_type": "code",
   "execution_count": null,
   "id": "74842a55",
   "metadata": {},
   "outputs": [],
   "source": [
    "def Squares(n):\n",
    "    num=1\n",
    "    while num<n:\n",
    "        print(num**2)\n",
    "        num+=1\n",
    "b=input()\n",
    "Squares(int(b))"
   ]
  },
  {
   "cell_type": "markdown",
   "id": "cf68a69e",
   "metadata": {},
   "source": [
    "Generators ex2"
   ]
  },
  {
   "cell_type": "code",
   "execution_count": 8,
   "id": "9de1d5bc",
   "metadata": {},
   "outputs": [
    {
     "name": "stdout",
     "output_type": "stream",
     "text": [
      "10\n",
      "2, 4, 6, 8\n"
     ]
    }
   ],
   "source": [
    "def Even(n):\n",
    "    num=2\n",
    "    while num<n:\n",
    "        if(num==n-2 or num ==n-1):\n",
    "            print(num)\n",
    "            num+=2\n",
    "            continue\n",
    "        print(num,end = \", \")\n",
    "        num+=2\n",
    "b=input()\n",
    "Even(int(b))"
   ]
  },
  {
   "cell_type": "markdown",
   "id": "c9ae4e06",
   "metadata": {},
   "source": [
    "Generators ex3"
   ]
  },
  {
   "cell_type": "code",
   "execution_count": 12,
   "id": "58846c3c",
   "metadata": {},
   "outputs": [
    {
     "name": "stdout",
     "output_type": "stream",
     "text": [
      "24\n",
      "0\n",
      "12\n",
      "24\n"
     ]
    }
   ],
   "source": [
    "def Gen(n):\n",
    "    num=0\n",
    "    while(num<=n):\n",
    "        print(num)\n",
    "        num+=12\n",
    "b=input()\n",
    "Gen(int(b))"
   ]
  },
  {
   "cell_type": "markdown",
   "id": "d50ed0c2",
   "metadata": {},
   "source": [
    "Generators ex4"
   ]
  },
  {
   "cell_type": "code",
   "execution_count": 2,
   "id": "2a6c4b17",
   "metadata": {},
   "outputs": [
    {
     "name": "stdout",
     "output_type": "stream",
     "text": [
      "4\n",
      "5\n",
      "16\n",
      "25\n"
     ]
    }
   ],
   "source": [
    "def Squares(a,b):\n",
    "    while a<=b:\n",
    "        yield a**2\n",
    "        a+=1\n",
    "a=input()\n",
    "b=input()\n",
    "Hup=Squares(int(a),int(b))\n",
    "\n",
    "for i in Hup:\n",
    "   print(i)"
   ]
  },
  {
   "cell_type": "markdown",
   "id": "90bbe866",
   "metadata": {},
   "source": [
    "Generators ex5"
   ]
  },
  {
   "cell_type": "code",
   "execution_count": 2,
   "id": "eb48e0c3",
   "metadata": {},
   "outputs": [
    {
     "name": "stdout",
     "output_type": "stream",
     "text": [
      "4\n",
      "4\n",
      "3\n",
      "2\n",
      "1\n",
      "0\n"
     ]
    }
   ],
   "source": [
    "def generator(n):\n",
    "    while n>=0:\n",
    "        yield n\n",
    "        n-=1\n",
    "a=input()\n",
    "for i in generator(int(a)):\n",
    "    print(i)"
   ]
  },
  {
   "cell_type": "markdown",
   "id": "ee96a8b8",
   "metadata": {},
   "source": [
    "Date ex1"
   ]
  },
  {
   "cell_type": "code",
   "execution_count": 7,
   "id": "22aea410",
   "metadata": {},
   "outputs": [
    {
     "name": "stdout",
     "output_type": "stream",
     "text": [
      "19\n"
     ]
    }
   ],
   "source": [
    "import datetime\n",
    "\n",
    "x=datetime.datetime.now()\n",
    "print(int(x.strftime(\"%d\"))-5)"
   ]
  },
  {
   "cell_type": "markdown",
   "id": "0c3a53ed",
   "metadata": {},
   "source": [
    "Date ex2"
   ]
  },
  {
   "cell_type": "code",
   "execution_count": 16,
   "id": "d489567c",
   "metadata": {},
   "outputs": [
    {
     "name": "stdout",
     "output_type": "stream",
     "text": [
      "2023-02-24 23:19:03.793282\n",
      "2023-02-23 23:19:03.793282\n",
      "2023-02-25 23:19:03.793282\n"
     ]
    }
   ],
   "source": [
    "import datetime\n",
    "\n",
    "x=datetime.datetime.now()\n",
    "y=datetime.datetime.now()-datetime.timedelta(days=1)\n",
    "t=datetime.datetime.now()+datetime.timedelta(days=1)\n",
    "print(x)\n",
    "print(y)\n",
    "print(t)"
   ]
  },
  {
   "cell_type": "markdown",
   "id": "a3cec8c4",
   "metadata": {},
   "source": [
    "Date ex3"
   ]
  },
  {
   "cell_type": "code",
   "execution_count": 1,
   "id": "f70b895b",
   "metadata": {},
   "outputs": [
    {
     "name": "stdout",
     "output_type": "stream",
     "text": [
      "Sat Feb 25 11:18:18 2023\n"
     ]
    }
   ],
   "source": [
    "import datetime\n",
    "\n",
    "x=datetime.datetime.now()\n",
    "print(x.strftime(\"%c\"))"
   ]
  },
  {
   "cell_type": "markdown",
   "id": "d14ec294",
   "metadata": {},
   "source": [
    "Date ex4"
   ]
  },
  {
   "cell_type": "code",
   "execution_count": 7,
   "id": "52e1264b",
   "metadata": {},
   "outputs": [
    {
     "name": "stdout",
     "output_type": "stream",
     "text": [
      "149524467.518206\n"
     ]
    }
   ],
   "source": [
    "import datetime\n",
    "\n",
    "x=datetime.datetime.now()\n",
    "yes=datetime.datetime(2018, 6, 1)\n",
    "dif=x-yes\n",
    "print(dif.total_seconds())"
   ]
  },
  {
   "cell_type": "markdown",
   "id": "a4fcd8fd",
   "metadata": {},
   "source": [
    "Math ex1"
   ]
  },
  {
   "cell_type": "code",
   "execution_count": 11,
   "id": "2aa73b6b",
   "metadata": {},
   "outputs": [
    {
     "name": "stdout",
     "output_type": "stream",
     "text": [
      "90\n",
      "1.5707963267948966\n"
     ]
    }
   ],
   "source": [
    "import math\n",
    "\n",
    "a=input()\n",
    "print(math.radians(int(a)))"
   ]
  },
  {
   "cell_type": "markdown",
   "id": "8c8cecc9",
   "metadata": {},
   "source": [
    "Math ex2"
   ]
  },
  {
   "cell_type": "code",
   "execution_count": 1,
   "id": "deab87ac",
   "metadata": {},
   "outputs": [
    {
     "name": "stdout",
     "output_type": "stream",
     "text": [
      "27.5\n"
     ]
    }
   ],
   "source": [
    "import math\n",
    "\n",
    "h=5\n",
    "bf=5\n",
    "bs=6\n",
    "trap=0.5*(bf+bs)*h\n",
    "print(trap)"
   ]
  },
  {
   "cell_type": "markdown",
   "id": "91d10f31",
   "metadata": {},
   "source": [
    "Math ex3"
   ]
  },
  {
   "cell_type": "code",
   "execution_count": 3,
   "id": "01e906c6",
   "metadata": {},
   "outputs": [
    {
     "name": "stdout",
     "output_type": "stream",
     "text": [
      "625.0000000000001\n"
     ]
    }
   ],
   "source": [
    "from math import tan,pi\n",
    "\n",
    "nside=4\n",
    "lside=25\n",
    "area=nside*(lside**2)/(4*tan(pi/nside))\n",
    "print(area)\n"
   ]
  },
  {
   "cell_type": "markdown",
   "id": "997649b8",
   "metadata": {},
   "source": [
    "Math ex4"
   ]
  },
  {
   "cell_type": "code",
   "execution_count": 4,
   "id": "b63fe0ea",
   "metadata": {},
   "outputs": [
    {
     "name": "stdout",
     "output_type": "stream",
     "text": [
      "30\n"
     ]
    }
   ],
   "source": [
    "import math\n",
    "\n",
    "l_base=5\n",
    "h_par=6\n",
    "area=l_base*h_par\n",
    "print(area)\n"
   ]
  },
  {
   "cell_type": "markdown",
   "id": "d13b0db4",
   "metadata": {},
   "source": [
    "JSON ex1"
   ]
  },
  {
   "cell_type": "code",
   "execution_count": 23,
   "id": "706597a1",
   "metadata": {},
   "outputs": [
    {
     "name": "stdout",
     "output_type": "stream",
     "text": [
      "{\n",
      "    \"totalCount\": \"400\",\n",
      "    \"imdata\": [\n",
      "        {\n",
      "            \"l1PhysIf\": {\n",
      "                \"attributes\": {\n",
      "                    \"adminSt\": \"up\",\n",
      "                    \"autoNeg\": \"on\",\n",
      "                    \"brkoutMap\": \"none\",\n",
      "                    \"bw\": \"0\",\n",
      "                    \"childAction\": \"\",\n",
      "                    \"delay\": \"1\",\n",
      "                    \"descr\": \"\",\n",
      "                    \"dn\": \"topology/pod-1/node-201/sys/phys-[eth1/33]\",\n",
      "                    \"dot1qEtherType\": \"0x8100\",\n",
      "                    \"ethpmCfgFailedBmp\": \"\",\n",
      "                    \"ethpmCfgFailedTs\": \"00:00:00:00.000\",\n",
      "                    \"ethpmCfgState\": \"0\",\n",
      "                    \"fecMode\": \"inherit\",\n",
      "                    \"id\": \"eth1/33\",\n",
      "                    \"inhBw\": \"unspecified\",\n",
      "                    \"layer\": \"Layer3\",\n",
      "                    \"lcOwn\": \"local\",\n",
      "                    \"linkDebounce\": \"100\",\n",
      "                    \"linkLog\": \"default\",\n",
      "                    \"mdix\": \"auto\",\n",
      "                    \"medium\": \"broadcast\",\n",
      "                    \"modTs\": \"2016-11-28T16:03:29.317-05:00\",\n",
      "                    \"mode\": \"trunk\",\n",
      "                    \"monPolDn\": \"uni/fabric/monfab-default\",\n",
      "                    \"mtu\": \"9150\",\n",
      "                    \"name\": \"\",\n",
      "                    \"pathSDescr\": \"\",\n",
      "                    \"portT\": \"fab\",\n",
      "                    \"prioFlowCtrl\": \"auto\",\n",
      "                    \"qiqL2ProtTunMask\": \"\",\n",
      "                    \"routerMac\": \"not-applicable\",\n",
      "                    \"snmpTrapSt\": \"enable\",\n",
      "                    \"spanMode\": \"not-a-span-dest\",\n",
      "                    \"speed\": \"inherit\",\n",
      "                    \"status\": \"\",\n",
      "                    \"switchingSt\": \"disabled\",\n",
      "                    \"trunkLog\": \"default\",\n",
      "                    \"usage\": \"fabric,fabric-ext\"\n",
      "                }\n",
      "            }\n",
      "        }\n",
      "    ]\n",
      "}\n"
     ]
    }
   ],
   "source": [
    "import json\n",
    "x = {\n",
    "    \"totalCount\": \"400\",\n",
    "    \"imdata\": [\n",
    "        {\n",
    "            \"l1PhysIf\": {\n",
    "                \"attributes\": {\n",
    "                    \"adminSt\": \"up\",\n",
    "                    \"autoNeg\": \"on\",\n",
    "                    \"brkoutMap\": \"none\",\n",
    "                    \"bw\": \"0\",\n",
    "                    \"childAction\": \"\",\n",
    "                    \"delay\": \"1\",\n",
    "                    \"descr\": \"\",\n",
    "                    \"dn\": \"topology/pod-1/node-201/sys/phys-[eth1/33]\",\n",
    "                    \"dot1qEtherType\": \"0x8100\",\n",
    "                    \"ethpmCfgFailedBmp\": \"\",\n",
    "                    \"ethpmCfgFailedTs\": \"00:00:00:00.000\",\n",
    "                    \"ethpmCfgState\": \"0\",\n",
    "                    \"fecMode\": \"inherit\",\n",
    "                    \"id\": \"eth1/33\",\n",
    "                    \"inhBw\": \"unspecified\",\n",
    "                    \"layer\": \"Layer3\",\n",
    "                    \"lcOwn\": \"local\",\n",
    "                    \"linkDebounce\": \"100\",\n",
    "                    \"linkLog\": \"default\",\n",
    "                    \"mdix\": \"auto\",\n",
    "                    \"medium\": \"broadcast\",\n",
    "                    \"modTs\": \"2016-11-28T16:03:29.317-05:00\",\n",
    "                    \"mode\": \"trunk\",\n",
    "                    \"monPolDn\": \"uni/fabric/monfab-default\",\n",
    "                    \"mtu\": \"9150\",\n",
    "                    \"name\": \"\",\n",
    "                    \"pathSDescr\": \"\",\n",
    "                    \"portT\": \"fab\",\n",
    "                    \"prioFlowCtrl\": \"auto\",\n",
    "                    \"qiqL2ProtTunMask\": \"\",\n",
    "                    \"routerMac\": \"not-applicable\",\n",
    "                    \"snmpTrapSt\": \"enable\",\n",
    "                    \"spanMode\": \"not-a-span-dest\",\n",
    "                    \"speed\": \"inherit\",\n",
    "                    \"status\": \"\",\n",
    "                    \"switchingSt\": \"disabled\",\n",
    "                    \"trunkLog\": \"default\",\n",
    "                    \"usage\": \"fabric,fabric-ext\"\n",
    "                }\n",
    "            }\n",
    "        }\n",
    "    ]\n",
    "}\n",
    "\n",
    "y=json.dumps(x,indent=4)\n",
    "\n",
    "print(y)\n"
   ]
  },
  {
   "cell_type": "code",
   "execution_count": null,
   "id": "b57e5682",
   "metadata": {},
   "outputs": [],
   "source": []
  }
 ],
 "metadata": {
  "kernelspec": {
   "display_name": "Python 3 (ipykernel)",
   "language": "python",
   "name": "python3"
  },
  "language_info": {
   "codemirror_mode": {
    "name": "ipython",
    "version": 3
   },
   "file_extension": ".py",
   "mimetype": "text/x-python",
   "name": "python",
   "nbconvert_exporter": "python",
   "pygments_lexer": "ipython3",
   "version": "3.9.13"
  }
 },
 "nbformat": 4,
 "nbformat_minor": 5
}
