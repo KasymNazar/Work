{
 "cells": [
  {
   "cell_type": "markdown",
   "id": "dec75b1d",
   "metadata": {},
   "source": [
    "Builtin ex1"
   ]
  },
  {
   "cell_type": "code",
   "execution_count": 18,
   "id": "8b71414c",
   "metadata": {},
   "outputs": [
    {
     "name": "stdout",
     "output_type": "stream",
     "text": [
      "3456\n"
     ]
    }
   ],
   "source": [
    "from functools import reduce\n",
    "import operator\n",
    "\n",
    "list=[2,4,8,6,9]\n",
    "print(reduce(operator.mul,list))"
   ]
  },
  {
   "cell_type": "markdown",
   "id": "40f42a28",
   "metadata": {},
   "source": [
    "Builtin ex2"
   ]
  },
  {
   "cell_type": "code",
   "execution_count": 19,
   "id": "5f5f7eb6",
   "metadata": {},
   "outputs": [
    {
     "name": "stdout",
     "output_type": "stream",
     "text": [
      "Sum of lower case letters 21\n",
      "Sum of upper case letters 3\n"
     ]
    }
   ],
   "source": [
    "import re\n",
    "strt=\"Y0u ar3 student. You are teaCher\"\n",
    "\n",
    "x=re.findall(\"[a-z]\",strt)\n",
    "y=re.findall(\"[A-Z]\",strt)\n",
    "print(\"Sum of lower case letters {}\".format(len(x)))\n",
    "print(\"Sum of upper case letters {}\".format(len(y)))\n"
   ]
  },
  {
   "cell_type": "markdown",
   "id": "5849f135",
   "metadata": {},
   "source": [
    "Builtin ex3"
   ]
  },
  {
   "cell_type": "code",
   "execution_count": 7,
   "id": "26276d2d",
   "metadata": {},
   "outputs": [
    {
     "name": "stdout",
     "output_type": "stream",
     "text": [
      "hggh\n",
      "This string is palindrome\n"
     ]
    }
   ],
   "source": [
    "strt=input()\n",
    "rev_strt=reversed(strt)\n",
    "if list(strt)==list(rev_strt):\n",
    "    print(\"This string is palindrome\")\n",
    "else:\n",
    "    print(\"This string is not palindrome\")"
   ]
  },
  {
   "cell_type": "markdown",
   "id": "6b87136b",
   "metadata": {},
   "source": [
    "Builtin ex4"
   ]
  },
  {
   "cell_type": "code",
   "execution_count": 10,
   "id": "e5454b8a",
   "metadata": {},
   "outputs": [
    {
     "name": "stdout",
     "output_type": "stream",
     "text": [
      "54\n",
      "2123\n",
      "7.3484692283495345\n"
     ]
    }
   ],
   "source": [
    "from threading import Timer\n",
    "x=input()\n",
    "y=input()\n",
    "y=int(y)\n",
    "y/=1000\n",
    "def root():\n",
    "    print (int(x)**(1/2))\n",
    "    \n",
    "t = Timer(int(y),root)\n",
    "t.start()"
   ]
  },
  {
   "cell_type": "markdown",
   "id": "ef3e90c4",
   "metadata": {},
   "source": [
    "Builtin ex5"
   ]
  },
  {
   "cell_type": "code",
   "execution_count": 14,
   "id": "a96f5d32",
   "metadata": {},
   "outputs": [
    {
     "name": "stdout",
     "output_type": "stream",
     "text": [
      "False\n",
      "True\n"
     ]
    }
   ],
   "source": [
    "list1 = [\"ofhgus\", 0, 45648, True, False]\n",
    "list2 =[\"sngfjlksrlk\", 1, 86223, True]\n",
    "\n",
    "print(all(list1))\n",
    "print(all(list2))"
   ]
  },
  {
   "cell_type": "markdown",
   "id": "f5e7ad4e",
   "metadata": {},
   "source": [
    "dir-and-files ex1"
   ]
  },
  {
   "cell_type": "code",
   "execution_count": 38,
   "id": "8c596114",
   "metadata": {},
   "outputs": [
    {
     "name": "stdout",
     "output_type": "stream",
     "text": [
      "Only directories:\n",
      "['LabPP2']\n",
      "\n",
      "Only files:\n",
      "['abc.txt', 'desktop.ini', 'Wallpaper Engine.url']\n",
      "\n",
      "All directories and files :\n",
      "['abc.txt', 'desktop.ini', 'LabPP2', 'Wallpaper Engine.url']\n"
     ]
    }
   ],
   "source": [
    "import os\n",
    "path = \"C:\\\\Users\\\\Kasym_Nazar\\\\Desktop\"\n",
    "print(\"Only directories:\")\n",
    "print([ name for name in os.listdir(path) if os.path.isdir(os.path.join(path, name)) ])\n",
    "print(\"\\nOnly files:\")\n",
    "print([ name for name in os.listdir(path) if not os.path.isdir(os.path.join(path, name)) ])\n",
    "print(\"\\nAll directories and files :\")\n",
    "print([ name for name in os.listdir(path)])"
   ]
  },
  {
   "cell_type": "markdown",
   "id": "68dae238",
   "metadata": {},
   "source": [
    "dir-and-files ex2"
   ]
  },
  {
   "cell_type": "code",
   "execution_count": 68,
   "id": "f6d05be8",
   "metadata": {},
   "outputs": [
    {
     "name": "stdout",
     "output_type": "stream",
     "text": [
      "Kassym 18 years old student\n",
      "oerjngnroegjo\n",
      "seijfsjmgrnKumalinoKumalinoKumalino\n",
      "\n",
      "Kassym 18 years old student\n",
      "oerjngnroegjo\n",
      "seijfsjmgrnKumalinoKumalinoKumalino\n",
      "Kumalino\n"
     ]
    }
   ],
   "source": [
    "f = open(\"C:\\\\Users\\\\Kasym_Nazar\\\\Desktop\\\\abc.txt\",\"r\")\n",
    "print(f.read())\n",
    "print(\"\")\n",
    "f =open(\"C:\\\\Users\\\\Kasym_Nazar\\\\Desktop\\\\abc.txt\",\"a\")\n",
    "f.write(\"\\nKumalino\")\n",
    "f.close()\n",
    "\n",
    "f = open(\"C:\\\\Users\\\\Kasym_Nazar\\\\Desktop\\\\abc.txt\",\"r\")\n",
    "print(f.read())"
   ]
  },
  {
   "cell_type": "markdown",
   "id": "139ed1ce",
   "metadata": {},
   "source": [
    "dir-and-files ex3"
   ]
  },
  {
   "cell_type": "code",
   "execution_count": 58,
   "id": "9b6d610a",
   "metadata": {},
   "outputs": [
    {
     "name": "stdout",
     "output_type": "stream",
     "text": [
      "True\n",
      "abc.txt\n",
      "C:\\\\Users\\\\Kasym_Nazar\\\\Desktop\n"
     ]
    }
   ],
   "source": [
    "import os\n",
    "path= r\"C:\\\\Users\\\\Kasym_Nazar\\\\Desktop\\\\abc.txt\"\n",
    "print(os.path.exists(path))\n",
    "print(os.path.basename(path))\n",
    "print(os.path.dirname(path))"
   ]
  },
  {
   "cell_type": "markdown",
   "id": "0fb2632b",
   "metadata": {},
   "source": [
    "dir-and-files ex4"
   ]
  },
  {
   "cell_type": "code",
   "execution_count": 69,
   "id": "30b723b0",
   "metadata": {},
   "outputs": [
    {
     "name": "stdout",
     "output_type": "stream",
     "text": [
      "4\n"
     ]
    }
   ],
   "source": [
    "f = open(\"C:\\\\Users\\\\Kasym_Nazar\\\\Desktop\\\\abc.txt\",\"r\")\n",
    "i=0\n",
    "while f.readline():\n",
    "    i+=1\n",
    "print(i)"
   ]
  },
  {
   "cell_type": "markdown",
   "id": "fe197a0e",
   "metadata": {},
   "source": [
    "dir-and-files ex5"
   ]
  },
  {
   "cell_type": "code",
   "execution_count": 66,
   "id": "950cd68e",
   "metadata": {},
   "outputs": [
    {
     "name": "stdout",
     "output_type": "stream",
     "text": [
      "4528good ;uckFalse\n"
     ]
    }
   ],
   "source": [
    "list1=[45,28,\"good ;uck\",False]\n",
    "f = open(\"C:\\\\Users\\\\Kasym_Nazar\\\\Desktop\\\\a.txt\",\"a\")\n",
    "\n",
    "for i in list1:\n",
    "    f.write(str(i))\n",
    "f.close\n",
    "f = open(\"C:\\\\Users\\\\Kasym_Nazar\\\\Desktop\\\\a.txt\",\"r\")\n",
    "print(f.read())"
   ]
  },
  {
   "cell_type": "markdown",
   "id": "6720a7e4",
   "metadata": {},
   "source": [
    "dir-and-files ex6"
   ]
  },
  {
   "cell_type": "code",
   "execution_count": 67,
   "id": "4e60a9a2",
   "metadata": {},
   "outputs": [],
   "source": [
    "list1=[\"A\",\"B\",\"C\",\"D\",\"E\",\"F\",\"G\",\"H\",\"I\",\"J\",\"K\",\"L\",\"M\",\"N\",\"O\",\"P\",\"Q\",\"R\",\"S\",\"T\",\"U\",\"V\",\"W\",\"X\",\"Y\",\"Z\"]\n",
    "for i in list1:\n",
    "    f=open(\"C:\\\\Users\\\\Kasym_Nazar\\\\Desktop\\\\Alpha\\\\{}.txt\".format(i),\"a\")\n",
    "    "
   ]
  },
  {
   "cell_type": "markdown",
   "id": "b1ed4b13",
   "metadata": {},
   "source": [
    "dir-and-files ex7"
   ]
  },
  {
   "cell_type": "code",
   "execution_count": 71,
   "id": "ff493bfa",
   "metadata": {},
   "outputs": [
    {
     "name": "stdout",
     "output_type": "stream",
     "text": [
      "Kassym 18 years old student\n",
      "oerjngnroegjo\n",
      "seijfsjmgrnKumalinoKumalinoKumalino\n",
      "Kumalino\n"
     ]
    }
   ],
   "source": [
    "f = open(\"C:\\\\Users\\\\Kasym_Nazar\\\\Desktop\\\\abc.txt\",\"r\")\n",
    "fi=f.read()\n",
    "f.close()\n",
    "fil=open(\"C:\\\\Users\\\\Kasym_Nazar\\\\Desktop\\\\Alpha\\\\A.txt\",\"w\")\n",
    "fil.write(fi)\n",
    "fil.close()\n",
    "fil=open(\"C:\\\\Users\\\\Kasym_Nazar\\\\Desktop\\\\Alpha\\\\A.txt\",\"r\")\n",
    "print(fil.read())"
   ]
  },
  {
   "cell_type": "markdown",
   "id": "23eea23d",
   "metadata": {},
   "source": [
    "dir-and-files ex8"
   ]
  },
  {
   "cell_type": "code",
   "execution_count": 72,
   "id": "9b980257",
   "metadata": {},
   "outputs": [
    {
     "name": "stdout",
     "output_type": "stream",
     "text": [
      "File was removed\n"
     ]
    }
   ],
   "source": [
    "import os\n",
    "if os.path.exists(\"C:\\\\Users\\\\Kasym_Nazar\\\\Desktop\\\\Alpha\\\\B.txt\"):\n",
    "  os.remove(\"C:\\\\Users\\\\Kasym_Nazar\\\\Desktop\\\\Alpha\\\\B.txt\")\n",
    "  print(\"File was removed\")\n",
    "else:\n",
    "  print(\"The file does not exist\")"
   ]
  },
  {
   "cell_type": "code",
   "execution_count": null,
   "id": "dad8ef59",
   "metadata": {},
   "outputs": [],
   "source": []
  }
 ],
 "metadata": {
  "kernelspec": {
   "display_name": "Python 3 (ipykernel)",
   "language": "python",
   "name": "python3"
  },
  "language_info": {
   "codemirror_mode": {
    "name": "ipython",
    "version": 3
   },
   "file_extension": ".py",
   "mimetype": "text/x-python",
   "name": "python",
   "nbconvert_exporter": "python",
   "pygments_lexer": "ipython3",
   "version": "3.9.13"
  }
 },
 "nbformat": 4,
 "nbformat_minor": 5
}
