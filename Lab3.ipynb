{
 "cells": [
  {
   "cell_type": "markdown",
   "id": "aee43d60",
   "metadata": {},
   "source": [
    "Classes ex1"
   ]
  },
  {
   "cell_type": "code",
   "execution_count": 1,
   "id": "6d6e4308",
   "metadata": {},
   "outputs": [
    {
     "name": "stdout",
     "output_type": "stream",
     "text": [
      "gtr\n",
      "GTR\n"
     ]
    }
   ],
   "source": [
    "class String:\n",
    "    def getString(self):\n",
    "        op = input()\n",
    "        self.op = op\n",
    "    def printString(self):\n",
    "        print(self.op.upper())\n",
    "        \n",
    "a = String()\n",
    "a.getString()\n",
    "a.printString()"
   ]
  },
  {
   "cell_type": "markdown",
   "id": "8fa30767",
   "metadata": {},
   "source": [
    "Classes ex2"
   ]
  },
  {
   "cell_type": "code",
   "execution_count": 10,
   "id": "0655bc5e",
   "metadata": {},
   "outputs": [
    {
     "name": "stdout",
     "output_type": "stream",
     "text": [
      "25\n"
     ]
    }
   ],
   "source": [
    "class Shape():\n",
    "    def area(self):\n",
    "        return 0\n",
    "class Square(Shape):\n",
    "    def __init__(self,length):\n",
    "        self.length=length\n",
    "    def area(self):\n",
    "        area=self.length*self.length\n",
    "        print(area)\n",
    "a = Square(5)\n",
    "a.area()"
   ]
  },
  {
   "cell_type": "markdown",
   "id": "a93deb37",
   "metadata": {},
   "source": [
    "Classes ex3"
   ]
  },
  {
   "cell_type": "code",
   "execution_count": 12,
   "id": "c03368b1",
   "metadata": {},
   "outputs": [
    {
     "name": "stdout",
     "output_type": "stream",
     "text": [
      "5.0\n"
     ]
    }
   ],
   "source": [
    "class Shape():\n",
    "    def area(self):\n",
    "        return 0\n",
    "class Rectangle(Shape):\n",
    "    def __init__(self,length,width):\n",
    "        self.length=length\n",
    "        self.width=width\n",
    "    def area(self):\n",
    "        print(self.length*self.width/2)\n",
    "a = Rectangle(2,5)\n",
    "a.area()"
   ]
  },
  {
   "cell_type": "markdown",
   "id": "3c5d7760",
   "metadata": {},
   "source": [
    "Classes ex4"
   ]
  },
  {
   "cell_type": "code",
   "execution_count": 21,
   "id": "6c112521",
   "metadata": {},
   "outputs": [
    {
     "name": "stdout",
     "output_type": "stream",
     "text": [
      "x - 2 y - 5\n",
      "1.4142135623730951\n"
     ]
    }
   ],
   "source": [
    "class Point():\n",
    "    def __init__(self,x,y):\n",
    "        self.x=x\n",
    "        self.y=y\n",
    "    def show(self):\n",
    "        print(\"x - {} y - {}\".format(self.x,self.y))\n",
    "    def move(self,x,y):\n",
    "        self.x=x\n",
    "        self.y=y\n",
    "    def dist(self,x,y):\n",
    "        dist=((self.x-x)**2+(self.y-y)**2)**(0.5)\n",
    "        print(dist)\n",
    "a=Point(2,5)\n",
    "a.show()\n",
    "a.move(3,6)\n",
    "a.dist(2,5)"
   ]
  },
  {
   "cell_type": "markdown",
   "id": "a0660be0",
   "metadata": {},
   "source": [
    "Classes ex5"
   ]
  },
  {
   "cell_type": "code",
   "execution_count": 26,
   "id": "1e83bf36",
   "metadata": {},
   "outputs": [
    {
     "name": "stdout",
     "output_type": "stream",
     "text": [
      "Your current balance 10000\n",
      "Your current balance 5000 \n",
      "Your balance don't have enough money\n",
      "Your current balance 5000 \n"
     ]
    }
   ],
   "source": [
    "class Bank():\n",
    "    def __init__(self,owner,balance):\n",
    "        self.owner=owner\n",
    "        self.balance=balance\n",
    "    def deposit(self,d):\n",
    "        self.balance+=d\n",
    "        print(\"Your current balance {}\".format(self.balance))\n",
    "    def withdrow(self,w):\n",
    "        if(w>self.balance):\n",
    "            print(\"Your balance don't have enough money\" )\n",
    "            print(\"Your current balance {} \".format(self.balance))\n",
    "        else:\n",
    "            self.balance-=w\n",
    "            print(\"Your current balance {} \".format(self.balance))\n",
    "            \n",
    "a=Bank(\"Kassym\",8000)\n",
    "a.deposit(2000)\n",
    "a.withdrow(5000)\n",
    "a.withdrow(10000)"
   ]
  },
  {
   "cell_type": "markdown",
   "id": "247318c9",
   "metadata": {},
   "source": [
    "Class ex6"
   ]
  },
  {
   "cell_type": "code",
   "execution_count": 13,
   "id": "69504fda",
   "metadata": {},
   "outputs": [
    {
     "name": "stdout",
     "output_type": "stream",
     "text": [
      "[2, 3, 5, 7, 11]\n"
     ]
    }
   ],
   "source": [
    "class onlyprime(object):\n",
    "    def __init__(self, mylist):\n",
    "        self.list = mylist\n",
    "    \n",
    "    def filter(self):\n",
    "        prime = []\n",
    "        for x in range(len(self.list)):\n",
    "            t = True\n",
    "            for j in range(2, int(x)):\n",
    "              if (int(x) % (j)) == 0:\n",
    "                t = False\n",
    "                break      \n",
    "            if t:\n",
    "              if x != 0 and x !=1:\n",
    "                prime.append(x)\n",
    "        return prime\n",
    "\n",
    "a = [1,2, 3, 4, 5,6,7, 8,9,10,11,12]\n",
    "plist = onlyprime(a)\n",
    "print(plist.filter())"
   ]
  },
  {
   "cell_type": "markdown",
   "id": "07e13226",
   "metadata": {},
   "source": [
    "Functions1 ex1"
   ]
  },
  {
   "cell_type": "code",
   "execution_count": 17,
   "id": "1ec2cf6a",
   "metadata": {},
   "outputs": [
    {
     "name": "stdout",
     "output_type": "stream",
     "text": [
      "28.3495231\n"
     ]
    }
   ],
   "source": [
    "def res(a):\n",
    "    return float(float(a) * 28.3495231)\n",
    "\n",
    "a = 1\n",
    "print(res(a))\n"
   ]
  },
  {
   "cell_type": "markdown",
   "id": "a4459384",
   "metadata": {},
   "source": [
    "Functions1 ex2"
   ]
  },
  {
   "cell_type": "code",
   "execution_count": 18,
   "id": "2e9a5921",
   "metadata": {},
   "outputs": [
    {
     "name": "stdout",
     "output_type": "stream",
     "text": [
      "-17.22222222222222\n"
     ]
    }
   ],
   "source": [
    "def Fah(F):\n",
    "    C = (5 / 9) * (float(F) - 32)\n",
    "    return C\n",
    "\n",
    "F = 1\n",
    "print(Fah(F))\n"
   ]
  },
  {
   "cell_type": "markdown",
   "id": "9fc76b48",
   "metadata": {},
   "source": [
    "Functions1 ex3"
   ]
  },
  {
   "cell_type": "code",
   "execution_count": 20,
   "id": "1fa9d311",
   "metadata": {},
   "outputs": [
    {
     "name": "stdout",
     "output_type": "stream",
     "text": [
      "count of heads\n",
      "count of legs\n",
      "Rabbit: 12 Chicken: 23\n"
     ]
    }
   ],
   "source": [
    "def puz(numheads, numlegs):\n",
    "    for i in range(numheads):\n",
    "        if (2*(i+1) + 4*(numheads-(i+1))) == numlegs:\n",
    "            return i+1\n",
    "        if (2*(numheads-(i+1)) + 4*(i+1)) == numlegs:\n",
    "            return i+1\n",
    "    return \"NOT CORRECT INPUT\"\n",
    "\n",
    "print(\"count of heads\")\n",
    "numheads = 35\n",
    "print(\"count of legs\")\n",
    "numlegs = 94\n",
    "\n",
    "\n",
    "s = puz(numheads, numlegs)\n",
    "if type(s) != type(\"qw\"):\n",
    "    if (2*s + 4*(numheads-s)) == numlegs:\n",
    "      chi = int(s)\n",
    "      rab = numheads - chi\n",
    "      print(\"Rabbit:\", rab, \"Chicken:\", chi  )\n",
    "    else:\n",
    "      rab = int(s)\n",
    "      chi = numheads - rab\n",
    "      print(\"Rabbit:\", rab, \"Chicken:\", chi  )\n",
    "\n",
    "else:\n",
    "   print(s)"
   ]
  },
  {
   "cell_type": "markdown",
   "id": "89f66cd7",
   "metadata": {},
   "source": [
    "Functions1 ex4"
   ]
  },
  {
   "cell_type": "code",
   "execution_count": 25,
   "id": "b8293651",
   "metadata": {},
   "outputs": [
    {
     "name": "stdout",
     "output_type": "stream",
     "text": [
      "[1, 2, 3, 5]\n"
     ]
    }
   ],
   "source": [
    "def prime(a):\n",
    "    prim = []\n",
    "    for i in a:\n",
    "        t = True\n",
    "        for j in range(2, int(i)):\n",
    "            if (int(i) % (j)) == 0:\n",
    "                t = False\n",
    "                break      \n",
    "        if t:\n",
    "          prim.append(i)\n",
    "    return prim\n",
    "\n",
    "a = [1, 2, 3, 4, 5, 6]\n",
    "print(prime(a))"
   ]
  },
  {
   "cell_type": "markdown",
   "id": "2b5d8b63",
   "metadata": {},
   "source": [
    "Functions1 ex5"
   ]
  },
  {
   "cell_type": "code",
   "execution_count": 26,
   "id": "3e65162a",
   "metadata": {},
   "outputs": [
    {
     "name": "stdout",
     "output_type": "stream",
     "text": [
      "All possible strings are : \n",
      "ABCDE  ABCED  ABDCE  ABDEC  ABECD  ABEDC  ACBDE  ACBED  ACDBE  ACDEB  ACEBD  ACEDB  ADBCE  ADBEC  ADCBE  ADCEB  ADEBC  ADECB  AEBCD  AEBDC  AECBD  AECDB  AEDBC  AEDCB  BACDE  BACED  BADCE  BADEC  BAECD  BAEDC  BCADE  BCAED  BCDAE  BCDEA  BCEAD  BCEDA  BDACE  BDAEC  BDCAE  BDCEA  BDEAC  BDECA  BEACD  BEADC  BECAD  BECDA  BEDAC  BEDCA  CABDE  CABED  CADBE  CADEB  CAEBD  CAEDB  CBADE  CBAED  CBDAE  CBDEA  CBEAD  CBEDA  CDABE  CDAEB  CDBAE  CDBEA  CDEAB  CDEBA  CEABD  CEADB  CEBAD  CEBDA  CEDAB  CEDBA  DABCE  DABEC  DACBE  DACEB  DAEBC  DAECB  DBACE  DBAEC  DBCAE  DBCEA  DBEAC  DBECA  DCABE  DCAEB  DCBAE  DCBEA  DCEAB  DCEBA  DEABC  DEACB  DEBAC  DEBCA  DECAB  DECBA  EABCD  EABDC  EACBD  EACDB  EADBC  EADCB  EBACD  EBADC  EBCAD  EBCDA  EBDAC  EBDCA  ECABD  ECADB  ECBAD  ECBDA  ECDAB  ECDBA  EDABC  EDACB  EDBAC  EDBCA  EDCAB  EDCBA  "
     ]
    }
   ],
   "source": [
    "def permute(s, answer):\n",
    "    if (len(s) == 0):\n",
    "        print(answer, end=\"  \")\n",
    "        return\n",
    " \n",
    "    for i in range(len(s)):\n",
    "        ch = s[i]\n",
    "        left_substr = s[0:i]\n",
    "        right_substr = s[i + 1:]\n",
    "        rest = left_substr + right_substr\n",
    "        permute(rest, answer + ch)\n",
    " \n",
    " \n",
    "answer = \"\"\n",
    " \n",
    "s = \"ABCDE\"\n",
    " \n",
    "print(\"All possible strings are : \")\n",
    "permute(s, answer)"
   ]
  },
  {
   "cell_type": "markdown",
   "id": "6e06a41c",
   "metadata": {},
   "source": [
    "Functions1 ex6"
   ]
  },
  {
   "cell_type": "code",
   "execution_count": 27,
   "id": "2b062a9c",
   "metadata": {},
   "outputs": [
    {
     "name": "stdout",
     "output_type": "stream",
     "text": [
      "ready are We\n"
     ]
    }
   ],
   "source": [
    "def reverse(s):\n",
    "    rev = \"\"\n",
    "    s = s.split(\" \")\n",
    "    cnt =-1\n",
    "    for i in s:\n",
    "        rev += \" \" +(s[cnt])\n",
    "        cnt -= 1\n",
    "    return rev.strip()\n",
    "\n",
    "s = \"We are ready\"\n",
    "print(reverse(s))"
   ]
  },
  {
   "cell_type": "markdown",
   "id": "2d5139f5",
   "metadata": {},
   "source": [
    "Functions1 ex7"
   ]
  },
  {
   "cell_type": "code",
   "execution_count": 28,
   "id": "efaf0c2f",
   "metadata": {},
   "outputs": [
    {
     "name": "stdout",
     "output_type": "stream",
     "text": [
      "True\n",
      "False\n",
      "False\n"
     ]
    }
   ],
   "source": [
    "def has_33(nums):\n",
    "    for i in range(len(nums)):\n",
    "        if i == len(nums)-1: continue\n",
    "        if nums[i] == nums[i+1] == 3 : return True\n",
    "    return False\n",
    "\n",
    "print(has_33([1, 3, 3]))\n",
    "print(has_33([1, 3, 1, 3]))\n",
    "print(has_33([3, 1, 3]))"
   ]
  },
  {
   "cell_type": "markdown",
   "id": "9914a8ef",
   "metadata": {},
   "source": [
    "Functions1 ex8"
   ]
  },
  {
   "cell_type": "code",
   "execution_count": 29,
   "id": "a338ebd1",
   "metadata": {},
   "outputs": [
    {
     "name": "stdout",
     "output_type": "stream",
     "text": [
      "True\n",
      "True\n",
      "False\n"
     ]
    }
   ],
   "source": [
    "def spy_game(nums):\n",
    "    cnt = 0\n",
    "    for i in range(len(nums)):\n",
    "        if (nums[i] == 0):\n",
    "            cnt += 1\n",
    "        if nums[i]== 7:\n",
    "           if cnt >=2: \n",
    "            return  True\n",
    "           else:\n",
    "            cnt =0\n",
    "    return False\n",
    "\n",
    "print(spy_game([1,2,4,0,0,7,5]))\n",
    "print(spy_game([1,0,2,4,0,5,7])) \n",
    "print(spy_game([1,7,2,0,4,5,0])) "
   ]
  },
  {
   "cell_type": "markdown",
   "id": "0322cac3",
   "metadata": {},
   "source": [
    "Functions1 ex9"
   ]
  },
  {
   "cell_type": "code",
   "execution_count": 30,
   "id": "7cebe97b",
   "metadata": {},
   "outputs": [
    {
     "name": "stdout",
     "output_type": "stream",
     "text": [
      "113.098\n"
     ]
    }
   ],
   "source": [
    "def volumeOFsphere(rad):\n",
    "    V = 4/3 * 3.1416 * rad**3\n",
    "    return V \n",
    "\n",
    "rad = 3\n",
    "print(round(volumeOFsphere(rad), 3))"
   ]
  },
  {
   "cell_type": "markdown",
   "id": "1d81f2bb",
   "metadata": {},
   "source": [
    "Functions1 ex10"
   ]
  },
  {
   "cell_type": "code",
   "execution_count": 31,
   "id": "24b0d7f4",
   "metadata": {},
   "outputs": [
    {
     "name": "stdout",
     "output_type": "stream",
     "text": [
      "['a', 's', 'd', 'f', 'e']\n"
     ]
    }
   ],
   "source": [
    "def unique(mylist):\n",
    "    uni =[]\n",
    "    for i in range(len(mylist)):\n",
    "        for j in range(len(mylist)):\n",
    "            if mylist[i] == mylist[j] and i !=j:\n",
    "                mylist[j] = \"De1ete it\"\n",
    "    for i in range(len(mylist)):\n",
    "        if mylist[i] == \"De1ete it\": continue\n",
    "        uni.append(mylist[i])\n",
    "    return uni\n",
    "\n",
    "mylist = ['a','s', 'd', 'f', 'a', 'e', 'e']\n",
    "print(unique(mylist))"
   ]
  },
  {
   "cell_type": "markdown",
   "id": "ea232751",
   "metadata": {},
   "source": [
    "Functions1 ex11"
   ]
  },
  {
   "cell_type": "code",
   "execution_count": 32,
   "id": "0753ea59",
   "metadata": {},
   "outputs": [
    {
     "name": "stdout",
     "output_type": "stream",
     "text": [
      "True\n",
      "False\n",
      "True\n"
     ]
    }
   ],
   "source": [
    "def polindrome(word):\n",
    "    l = len(word)\n",
    "    for i in range(l):\n",
    "        if word[i] != word[l-i-1]: return False\n",
    "        if l/2 > i: return True\n",
    "\n",
    "word = \"madam\"\n",
    "print(polindrome(word))\n",
    "print(polindrome(\"miss\"))\n",
    "print(polindrome(\"mm\"))"
   ]
  },
  {
   "cell_type": "markdown",
   "id": "020560da",
   "metadata": {},
   "source": [
    "Functions1 ex12"
   ]
  },
  {
   "cell_type": "code",
   "execution_count": 34,
   "id": "2f5ad5bf",
   "metadata": {},
   "outputs": [
    {
     "name": "stdout",
     "output_type": "stream",
     "text": [
      "****\n",
      "*********\n",
      "*******\n"
     ]
    }
   ],
   "source": [
    "def histogram(mylist):\n",
    "    for i in mylist:\n",
    "        for j in range(int(i)):\n",
    "            print(\"*\", end = \"\")\n",
    "        if i != mylist[len(mylist)-1]: print()\n",
    "    return \"\"\n",
    "\n",
    "print(histogram([4, 9, 7]))"
   ]
  },
  {
   "cell_type": "markdown",
   "id": "7da15e93",
   "metadata": {},
   "source": [
    "Functions1 ex13"
   ]
  },
  {
   "cell_type": "code",
   "execution_count": 35,
   "id": "651f70a7",
   "metadata": {},
   "outputs": [
    {
     "name": "stdout",
     "output_type": "stream",
     "text": [
      "what is your guessed number\n",
      "54\n",
      "print your lower num\n",
      "4\n",
      "print your higer num\n",
      "98\n",
      "Hello! What is your name?\n",
      "Kassym\n",
      "Well, Kassym, I am thinking of a number between 4 and 98.\n",
      "Take a guess\n",
      "4\n",
      "Your guess is too low.\n",
      "Take a guess\n",
      "8\n",
      "Your guess is too low.\n",
      "Take a guess\n",
      "65\n",
      "Your guess is too high.\n",
      "Take a guess\n",
      "60\n",
      "Your guess is too high.\n",
      "Take a guess\n",
      "55\n",
      "Your guess is too high.\n",
      "Take a guess\n",
      "50\n",
      "Your guess is too low.\n",
      "Take a guess\n",
      "53\n",
      "Your guess is too low.\n",
      "Take a guess\n",
      "54\n",
      "Good job, Kassym! You guessed my number in 8 guesses!\n"
     ]
    }
   ],
   "source": [
    "def guess(min, max, guessed, num):\n",
    "    if num < guessed: print(\"Your guess is too low.\")\n",
    "    if num > guessed: print(\"Your guess is too high.\")\n",
    "    print(\"Take a guess\")\n",
    "    return 0\n",
    "    \n",
    "\n",
    "\n",
    "print(\"what is your guessed number\")\n",
    "guessed = int(input())\n",
    "print(\"print your lower num\")\n",
    "min = input()\n",
    "print(\"print your higer num\")\n",
    "max = int(input())\n",
    "\n",
    "print(\"Hello! What is your name?\")\n",
    "name = (input())\n",
    "qwe = (\"Well, {}, I am thinking of a number between {} and {}.\")\n",
    "print(qwe.format(name, min, max))\n",
    "print(\"Take a guess\")\n",
    "\n",
    "cnt =0\n",
    "temp = True\n",
    "while(temp):\n",
    "    cnt +=1\n",
    "    num = int(input())\n",
    "    if(num == guessed):\n",
    "        fin = (\"Good job, {}! You guessed my number in {} guesses!\")\n",
    "        print(fin.format(name,cnt))\n",
    "        temp = False\n",
    "        break\n",
    "    guess(min, max, guessed, num)\n",
    "\n",
    "\n",
    "\n",
    "    a = dict()"
   ]
  },
  {
   "cell_type": "markdown",
   "id": "87d96848",
   "metadata": {},
   "source": [
    "Functions2 ex1"
   ]
  },
  {
   "cell_type": "code",
   "execution_count": 36,
   "id": "53aaac0b",
   "metadata": {},
   "outputs": [
    {
     "name": "stdout",
     "output_type": "stream",
     "text": [
      "True\n"
     ]
    }
   ],
   "source": [
    "movies = [\n",
    "{\n",
    "\"name\": \"Usual Suspects\", \n",
    "\"imdb\": 7.0,\n",
    "\"category\": \"Thriller\"\n",
    "},\n",
    "{\n",
    "\"name\": \"Hitman\",\n",
    "\"imdb\": 6.3,\n",
    "\"category\": \"Action\"\n",
    "},\n",
    "{\n",
    "\"name\": \"Dark Knight\",\n",
    "\"imdb\": 9.0,\n",
    "\"category\": \"Adventure\"\n",
    "},\n",
    "{\n",
    "\"name\": \"The Help\",\n",
    "\"imdb\": 8.0,\n",
    "\"category\": \"Drama\"\n",
    "},\n",
    "{\n",
    "\"name\": \"The Choice\",\n",
    "\"imdb\": 6.2,\n",
    "\"category\": \"Romance\"\n",
    "},\n",
    "{\n",
    "\"name\": \"Colonia\",\n",
    "\"imdb\": 7.4,\n",
    "\"category\": \"Romance\"\n",
    "},\n",
    "{\n",
    "\"name\": \"Love\",\n",
    "\"imdb\": 6.0,\n",
    "\"category\": \"Romance\"\n",
    "},\n",
    "{\n",
    "\"name\": \"Bride Wars\",\n",
    "\"imdb\": 5.4,\n",
    "\"category\": \"Romance\"\n",
    "},\n",
    "{\n",
    "\"name\": \"AlphaJet\",\n",
    "\"imdb\": 3.2,\n",
    "\"category\": \"War\"\n",
    "},\n",
    "{\n",
    "\"name\": \"Ringing Crime\",\n",
    "\"imdb\": 4.0,\n",
    "\"category\": \"Crime\"\n",
    "},\n",
    "{\n",
    "\"name\": \"Joking muck\",\n",
    "\"imdb\": 7.2,\n",
    "\"category\": \"Comedy\"\n",
    "},\n",
    "{\n",
    "\"name\": \"What is the name\",\n",
    "\"imdb\": 9.2,\n",
    "\"category\": \"Suspense\"\n",
    "},\n",
    "{\n",
    "\"name\": \"Detective\",\n",
    "\"imdb\": 7.0,\n",
    "\"category\": \"Suspense\"\n",
    "},\n",
    "{\n",
    "\"name\": \"Exam\",\n",
    "\"imdb\": 4.2,\n",
    "\"category\": \"Thriller\"\n",
    "},\n",
    "{\n",
    "\"name\": \"We Two\",\n",
    "\"imdb\": 7.2,\n",
    "\"category\": \"Romance\"\n",
    "}\n",
    "]\n",
    "\n",
    "def IMDB55(movies, movie):\n",
    "    for i in movies:\n",
    "        if i[\"name\"] == movie:\n",
    "            if i[\"imdb\"]  >= 5.5:\n",
    "               print(True)\n",
    "\n",
    "movie = \"Hitman\"\n",
    "IMDB55(movies, movie)"
   ]
  },
  {
   "cell_type": "markdown",
   "id": "775f3de9",
   "metadata": {},
   "source": [
    "Functions2 ex2"
   ]
  },
  {
   "cell_type": "code",
   "execution_count": 38,
   "id": "dfb86bea",
   "metadata": {},
   "outputs": [
    {
     "name": "stdout",
     "output_type": "stream",
     "text": [
      "{'name': 'Usual Suspects', 'imdb': 7.0, 'category': 'Thriller'}\n",
      "{'name': 'Hitman', 'imdb': 6.3, 'category': 'Action'}\n",
      "{'name': 'Dark Knight', 'imdb': 9.0, 'category': 'Adventure'}\n",
      "{'name': 'The Help', 'imdb': 8.0, 'category': 'Drama'}\n",
      "{'name': 'The Choice', 'imdb': 6.2, 'category': 'Romance'}\n",
      "{'name': 'Colonia', 'imdb': 7.4, 'category': 'Romance'}\n",
      "{'name': 'Love', 'imdb': 6.0, 'category': 'Romance'}\n",
      "{'name': 'Joking muck', 'imdb': 7.2, 'category': 'Comedy'}\n",
      "{'name': 'What is the name', 'imdb': 9.2, 'category': 'Suspense'}\n",
      "{'name': 'Detective', 'imdb': 7.0, 'category': 'Suspense'}\n",
      "{'name': 'We Two', 'imdb': 7.2, 'category': 'Romance'}\n"
     ]
    }
   ],
   "source": [
    "movies = [\n",
    "{\n",
    "\"name\": \"Usual Suspects\", \n",
    "\"imdb\": 7.0,\n",
    "\"category\": \"Thriller\"\n",
    "},\n",
    "{\n",
    "\"name\": \"Hitman\",\n",
    "\"imdb\": 6.3,\n",
    "\"category\": \"Action\"\n",
    "},\n",
    "{\n",
    "\"name\": \"Dark Knight\",\n",
    "\"imdb\": 9.0,\n",
    "\"category\": \"Adventure\"\n",
    "},\n",
    "{\n",
    "\"name\": \"The Help\",\n",
    "\"imdb\": 8.0,\n",
    "\"category\": \"Drama\"\n",
    "},\n",
    "{\n",
    "\"name\": \"The Choice\",\n",
    "\"imdb\": 6.2,\n",
    "\"category\": \"Romance\"\n",
    "},\n",
    "{\n",
    "\"name\": \"Colonia\",\n",
    "\"imdb\": 7.4,\n",
    "\"category\": \"Romance\"\n",
    "},\n",
    "{\n",
    "\"name\": \"Love\",\n",
    "\"imdb\": 6.0,\n",
    "\"category\": \"Romance\"\n",
    "},\n",
    "{\n",
    "\"name\": \"Bride Wars\",\n",
    "\"imdb\": 5.4,\n",
    "\"category\": \"Romance\"\n",
    "},\n",
    "{\n",
    "\"name\": \"AlphaJet\",\n",
    "\"imdb\": 3.2,\n",
    "\"category\": \"War\"\n",
    "},\n",
    "{\n",
    "\"name\": \"Ringing Crime\",\n",
    "\"imdb\": 4.0,\n",
    "\"category\": \"Crime\"\n",
    "},\n",
    "{\n",
    "\"name\": \"Joking muck\",\n",
    "\"imdb\": 7.2,\n",
    "\"category\": \"Comedy\"\n",
    "},\n",
    "{\n",
    "\"name\": \"What is the name\",\n",
    "\"imdb\": 9.2,\n",
    "\"category\": \"Suspense\"\n",
    "},\n",
    "{\n",
    "\"name\": \"Detective\",\n",
    "\"imdb\": 7.0,\n",
    "\"category\": \"Suspense\"\n",
    "},\n",
    "{\n",
    "\"name\": \"Exam\",\n",
    "\"imdb\": 4.2,\n",
    "\"category\": \"Thriller\"\n",
    "},\n",
    "{\n",
    "\"name\": \"We Two\",\n",
    "\"imdb\": 7.2,\n",
    "\"category\": \"Romance\"\n",
    "}\n",
    "]\n",
    "\n",
    "def imdb55LIST(movies):\n",
    "    for i in movies:\n",
    "            if i[\"imdb\"] >= 5.5:\n",
    "               print(i)\n",
    "\n",
    "imdb55LIST(movies)"
   ]
  },
  {
   "cell_type": "markdown",
   "id": "2b2cfcc7",
   "metadata": {},
   "source": [
    "Functions2 ex3"
   ]
  },
  {
   "cell_type": "code",
   "execution_count": 39,
   "id": "3af36051",
   "metadata": {},
   "outputs": [
    {
     "name": "stdout",
     "output_type": "stream",
     "text": [
      "The Choice\n",
      "Colonia\n",
      "Love\n",
      "Bride Wars\n",
      "We Two\n"
     ]
    }
   ],
   "source": [
    "movies = [\n",
    "{\n",
    "\"name\": \"Usual Suspects\", \n",
    "\"imdb\": 7.0,\n",
    "\"category\": \"Thriller\"\n",
    "},\n",
    "{\n",
    "\"name\": \"Hitman\",\n",
    "\"imdb\": 6.3,\n",
    "\"category\": \"Action\"\n",
    "},\n",
    "{\n",
    "\"name\": \"Dark Knight\",\n",
    "\"imdb\": 9.0,\n",
    "\"category\": \"Adventure\"\n",
    "},\n",
    "{\n",
    "\"name\": \"The Help\",\n",
    "\"imdb\": 8.0,\n",
    "\"category\": \"Drama\"\n",
    "},\n",
    "{\n",
    "\"name\": \"The Choice\",\n",
    "\"imdb\": 6.2,\n",
    "\"category\": \"Romance\"\n",
    "},\n",
    "{\n",
    "\"name\": \"Colonia\",\n",
    "\"imdb\": 7.4,\n",
    "\"category\": \"Romance\"\n",
    "},\n",
    "{\n",
    "\"name\": \"Love\",\n",
    "\"imdb\": 6.0,\n",
    "\"category\": \"Romance\"\n",
    "},\n",
    "{\n",
    "\"name\": \"Bride Wars\",\n",
    "\"imdb\": 5.4,\n",
    "\"category\": \"Romance\"\n",
    "},\n",
    "{\n",
    "\"name\": \"AlphaJet\",\n",
    "\"imdb\": 3.2,\n",
    "\"category\": \"War\"\n",
    "},\n",
    "{\n",
    "\"name\": \"Ringing Crime\",\n",
    "\"imdb\": 4.0,\n",
    "\"category\": \"Crime\"\n",
    "},\n",
    "{\n",
    "\"name\": \"Joking muck\",\n",
    "\"imdb\": 7.2,\n",
    "\"category\": \"Comedy\"\n",
    "},\n",
    "{\n",
    "\"name\": \"What is the name\",\n",
    "\"imdb\": 9.2,\n",
    "\"category\": \"Suspense\"\n",
    "},\n",
    "{\n",
    "\"name\": \"Detective\",\n",
    "\"imdb\": 7.0,\n",
    "\"category\": \"Suspense\"\n",
    "},\n",
    "{\n",
    "\"name\": \"Exam\",\n",
    "\"imdb\": 4.2,\n",
    "\"category\": \"Thriller\"\n",
    "},\n",
    "{\n",
    "\"name\": \"We Two\",\n",
    "\"imdb\": 7.2,\n",
    "\"category\": \"Romance\"\n",
    "}\n",
    "]\n",
    "\n",
    "def category(movies, categ):\n",
    "    for i in movies:\n",
    "            if i[\"category\"] == categ:\n",
    "               print(i[\"name\"])\n",
    "\n",
    "categ = \"Romance\"\n",
    "category(movies, categ)"
   ]
  },
  {
   "cell_type": "markdown",
   "id": "7581e789",
   "metadata": {},
   "source": [
    "Functions2 ex4"
   ]
  },
  {
   "cell_type": "code",
   "execution_count": 40,
   "id": "98355f58",
   "metadata": {},
   "outputs": [
    {
     "name": "stdout",
     "output_type": "stream",
     "text": [
      "5.9\n"
     ]
    }
   ],
   "source": [
    "movies = [\n",
    "{\n",
    "\"name\": \"Usual Suspects\", \n",
    "\"imdb\": 7.0,\n",
    "\"category\": \"Thriller\"\n",
    "},\n",
    "{\n",
    "\"name\": \"Hitman\",\n",
    "\"imdb\": 6.3,\n",
    "\"category\": \"Action\"\n",
    "},\n",
    "{\n",
    "\"name\": \"Dark Knight\",\n",
    "\"imdb\": 9.0,\n",
    "\"category\": \"Adventure\"\n",
    "},\n",
    "{\n",
    "\"name\": \"The Help\",\n",
    "\"imdb\": 8.0,\n",
    "\"category\": \"Drama\"\n",
    "},\n",
    "{\n",
    "\"name\": \"The Choice\",\n",
    "\"imdb\": 6.2,\n",
    "\"category\": \"Romance\"\n",
    "},\n",
    "{\n",
    "\"name\": \"Colonia\",\n",
    "\"imdb\": 7.4,\n",
    "\"category\": \"Romance\"\n",
    "},\n",
    "{\n",
    "\"name\": \"Love\",\n",
    "\"imdb\": 6.0,\n",
    "\"category\": \"Romance\"\n",
    "},\n",
    "{\n",
    "\"name\": \"Bride Wars\",\n",
    "\"imdb\": 5.4,\n",
    "\"category\": \"Romance\"\n",
    "},\n",
    "{\n",
    "\"name\": \"AlphaJet\",\n",
    "\"imdb\": 3.2,\n",
    "\"category\": \"War\"\n",
    "},\n",
    "{\n",
    "\"name\": \"Ringing Crime\",\n",
    "\"imdb\": 4.0,\n",
    "\"category\": \"Crime\"\n",
    "},\n",
    "{\n",
    "\"name\": \"Joking muck\",\n",
    "\"imdb\": 7.2,\n",
    "\"category\": \"Comedy\"\n",
    "},\n",
    "{\n",
    "\"name\": \"What is the name\",\n",
    "\"imdb\": 9.2,\n",
    "\"category\": \"Suspense\"\n",
    "},\n",
    "{\n",
    "\"name\": \"Detective\",\n",
    "\"imdb\": 7.0,\n",
    "\"category\": \"Suspense\"\n",
    "},\n",
    "{\n",
    "\"name\": \"Exam\",\n",
    "\"imdb\": 4.2,\n",
    "\"category\": \"Thriller\"\n",
    "},\n",
    "{\n",
    "\"name\": \"We Two\",\n",
    "\"imdb\": 7.2,\n",
    "\"category\": \"Romance\"\n",
    "}\n",
    "]\n",
    "\n",
    "def av_score(movies, list_of_movie):\n",
    "    all = float(0)\n",
    "    for i in movies:\n",
    "        if i[\"name\"] in list_of_movie:\n",
    "           all += float(i[\"imdb\"])\n",
    "    return all/ len(list_of_movie)\n",
    "\n",
    "list_of_movie = [\"Hitman\", \"We Two\", \"Exam\"]\n",
    "a = av_score(movies, list_of_movie)\n",
    "print(round(a, 3))"
   ]
  },
  {
   "cell_type": "markdown",
   "id": "29793093",
   "metadata": {},
   "source": [
    "Functions2 ex5"
   ]
  },
  {
   "cell_type": "code",
   "execution_count": 41,
   "id": "1c7c53a5",
   "metadata": {},
   "outputs": [
    {
     "name": "stdout",
     "output_type": "stream",
     "text": [
      "6.44\n"
     ]
    }
   ],
   "source": [
    "movies = [\n",
    "{\n",
    "\"name\": \"Usual Suspects\", \n",
    "\"imdb\": 7.0,\n",
    "\"category\": \"Thriller\"\n",
    "},\n",
    "{\n",
    "\"name\": \"Hitman\",\n",
    "\"imdb\": 6.3,\n",
    "\"category\": \"Action\"\n",
    "},\n",
    "{\n",
    "\"name\": \"Dark Knight\",\n",
    "\"imdb\": 9.0,\n",
    "\"category\": \"Adventure\"\n",
    "},\n",
    "{\n",
    "\"name\": \"The Help\",\n",
    "\"imdb\": 8.0,\n",
    "\"category\": \"Drama\"\n",
    "},\n",
    "{\n",
    "\"name\": \"The Choice\",\n",
    "\"imdb\": 6.2,\n",
    "\"category\": \"Romance\"\n",
    "},\n",
    "{\n",
    "\"name\": \"Colonia\",\n",
    "\"imdb\": 7.4,\n",
    "\"category\": \"Romance\"\n",
    "},\n",
    "{\n",
    "\"name\": \"Love\",\n",
    "\"imdb\": 6.0,\n",
    "\"category\": \"Romance\"\n",
    "},\n",
    "{\n",
    "\"name\": \"Bride Wars\",\n",
    "\"imdb\": 5.4,\n",
    "\"category\": \"Romance\"\n",
    "},\n",
    "{\n",
    "\"name\": \"AlphaJet\",\n",
    "\"imdb\": 3.2,\n",
    "\"category\": \"War\"\n",
    "},\n",
    "{\n",
    "\"name\": \"Ringing Crime\",\n",
    "\"imdb\": 4.0,\n",
    "\"category\": \"Crime\"\n",
    "},\n",
    "{\n",
    "\"name\": \"Joking muck\",\n",
    "\"imdb\": 7.2,\n",
    "\"category\": \"Comedy\"\n",
    "},\n",
    "{\n",
    "\"name\": \"What is the name\",\n",
    "\"imdb\": 9.2,\n",
    "\"category\": \"Suspense\"\n",
    "},\n",
    "{\n",
    "\"name\": \"Detective\",\n",
    "\"imdb\": 7.0,\n",
    "\"category\": \"Suspense\"\n",
    "},\n",
    "{\n",
    "\"name\": \"Exam\",\n",
    "\"imdb\": 4.2,\n",
    "\"category\": \"Thriller\"\n",
    "},\n",
    "{\n",
    "\"name\": \"We Two\",\n",
    "\"imdb\": 7.2,\n",
    "\"category\": \"Romance\"\n",
    "}\n",
    "]\n",
    "\n",
    "def av_score(movies, cat):\n",
    "    all = float(0)\n",
    "    cnt =0\n",
    "    for i in movies:\n",
    "        if i[\"category\"] in cat:\n",
    "           cnt +=1\n",
    "           all += float(i[\"imdb\"])\n",
    "    return all/ cnt\n",
    "\n",
    "cat = \"Romance\"\n",
    "a = av_score(movies, cat)\n",
    "print(round(a, 3))\n"
   ]
  }
 ],
 "metadata": {
  "kernelspec": {
   "display_name": "Python 3 (ipykernel)",
   "language": "python",
   "name": "python3"
  },
  "language_info": {
   "codemirror_mode": {
    "name": "ipython",
    "version": 3
   },
   "file_extension": ".py",
   "mimetype": "text/x-python",
   "name": "python",
   "nbconvert_exporter": "python",
   "pygments_lexer": "ipython3",
   "version": "3.9.13"
  }
 },
 "nbformat": 4,
 "nbformat_minor": 5
}
