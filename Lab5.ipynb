{
 "cells": [
  {
   "cell_type": "markdown",
   "id": "65a91f54",
   "metadata": {},
   "source": [
    "RegEx ex1"
   ]
  },
  {
   "cell_type": "code",
   "execution_count": 3,
   "id": "d263f0ec",
   "metadata": {},
   "outputs": [
    {
     "name": "stdout",
     "output_type": "stream",
     "text": [
      "['abbbbb', 'a', 'a', 'a', 'a', 'a', 'a', 'a', 'a', 'a']\n"
     ]
    }
   ],
   "source": [
    "import re\n",
    "txt = \"abbbbbatyyhjkbbbaaaaaaaa\"\n",
    "x = re.findall(\"ab*\", txt)\n",
    "print(x)"
   ]
  },
  {
   "cell_type": "markdown",
   "id": "983b3ebd",
   "metadata": {},
   "source": [
    "RegEx ex2"
   ]
  },
  {
   "cell_type": "code",
   "execution_count": 28,
   "id": "df557a63",
   "metadata": {},
   "outputs": [
    {
     "name": "stdout",
     "output_type": "stream",
     "text": [
      "['abbb', 'abb', 'abbb', 'abbb']\n"
     ]
    }
   ],
   "source": [
    "import re\n",
    "txt=\"aabbbbbb ababbabbbabbbbaaaaaab\"\n",
    "x = re.findall(\"ab{2,3}\",txt)\n",
    "print(x)"
   ]
  },
  {
   "cell_type": "markdown",
   "id": "907698c4",
   "metadata": {},
   "source": [
    "RegEx ex3"
   ]
  },
  {
   "cell_type": "code",
   "execution_count": 30,
   "id": "925f43a0",
   "metadata": {},
   "outputs": [
    {
     "name": "stdout",
     "output_type": "stream",
     "text": [
      "['a_m', 'k_k', 'n_boindtba']\n"
     ]
    }
   ],
   "source": [
    "import re\n",
    "txt=\"a_m_k_k_ovrn_boindtba_m;\"\n",
    "x = re.findall('[a-z]{1}_[a-z]{1,}',txt)\n",
    "print(x)"
   ]
  },
  {
   "cell_type": "markdown",
   "id": "13b5d8c9",
   "metadata": {},
   "source": [
    "RegEx ex4"
   ]
  },
  {
   "cell_type": "code",
   "execution_count": 32,
   "id": "4cae5c33",
   "metadata": {},
   "outputs": [
    {
     "name": "stdout",
     "output_type": "stream",
     "text": [
      "['Ambdopbndlj', 'Hk']\n"
     ]
    }
   ],
   "source": [
    "import re\n",
    "txt = \"aggggggggAmbdopbndljHk\"\n",
    "x = re.findall(\"[A-Z]{1,1}[a-z]+\",txt)\n",
    "print (x)"
   ]
  },
  {
   "cell_type": "markdown",
   "id": "bb3090ca",
   "metadata": {},
   "source": [
    "RegEx ex5"
   ]
  },
  {
   "cell_type": "code",
   "execution_count": 38,
   "id": "e1a8a97d",
   "metadata": {},
   "outputs": [
    {
     "name": "stdout",
     "output_type": "stream",
     "text": [
      "['argjdlba...b']\n"
     ]
    }
   ],
   "source": [
    "import re\n",
    "txt=\"dfgbfsfhshfhargjdlba...b\"\n",
    "x = re.findall(\"a.*b\",txt)\n",
    "print(x)"
   ]
  },
  {
   "cell_type": "markdown",
   "id": "bf336b94",
   "metadata": {},
   "source": [
    "RegEx ex6"
   ]
  },
  {
   "cell_type": "code",
   "execution_count": 45,
   "id": "3c4f4607",
   "metadata": {},
   "outputs": [
    {
     "name": "stdout",
     "output_type": "stream",
     "text": [
      "erdfrhft::::::ytjrfj\n"
     ]
    }
   ],
   "source": [
    "import re\n",
    "txt=\"erdfrhft.,,,,.ytjrfj\"\n",
    "x = re.sub(\"[\\s,.]\",\":\",txt)\n",
    "print(x)"
   ]
  },
  {
   "cell_type": "markdown",
   "id": "a646f6d1",
   "metadata": {},
   "source": [
    "RegEx ex7"
   ]
  },
  {
   "cell_type": "code",
   "execution_count": 50,
   "id": "2c9b36da",
   "metadata": {},
   "outputs": [
    {
     "name": "stdout",
     "output_type": "stream",
     "text": [
      "sLejfVklsnrvoiLl\n"
     ]
    }
   ],
   "source": [
    "import re\n",
    "txt = \"s_lejf_vklsnrvoi_ll\"\n",
    "x = re.sub(\"_([a-z])\",lambda match: match.group(1).upper(),txt)\n",
    "print(x)"
   ]
  },
  {
   "cell_type": "markdown",
   "id": "41d0e221",
   "metadata": {},
   "source": [
    "RegEx ex8"
   ]
  },
  {
   "cell_type": "code",
   "execution_count": 59,
   "id": "bae8b5a4",
   "metadata": {},
   "outputs": [
    {
     "name": "stdout",
     "output_type": "stream",
     "text": [
      "['Acas_d_asabbbxw-afe', 'Acasabbx', 'Aqw_das,eaabfabbbbcwe,g4tr']\n"
     ]
    }
   ],
   "source": [
    "import re\n",
    "txt=\"_a_axc.adwe-Acas_d_asabbbxw-afeAcasabbxAqw_das,eaabfabbbbcwe,g4tr\"\n",
    "x = re.findall(\"[A-Z][^A-Z]*\", txt)\n",
    "print(x)"
   ]
  },
  {
   "cell_type": "markdown",
   "id": "0e87a461",
   "metadata": {},
   "source": [
    "RegEx ex9"
   ]
  },
  {
   "cell_type": "code",
   "execution_count": 52,
   "id": "6b531f42",
   "metadata": {},
   "outputs": [
    {
     "name": "stdout",
     "output_type": "stream",
     "text": [
      "_a_axc.adwe-Acas_d_asabbbxw-afe Acasabbx Aqw_das,eaabfabbbbcwe,g4tr\n"
     ]
    }
   ],
   "source": [
    "import re\n",
    "txt=\"_a_axc.adwe-Acas_d_asabbbxw-afeAcasabbxAqw_das,eaabfabbbbcwe,g4tr\"\n",
    "x = re.sub(\"([a-z])([A-Z])\", lambda match: match.group(1) + \" \"+ match.group(2), txt)\n",
    "print(x)"
   ]
  },
  {
   "cell_type": "markdown",
   "id": "8a156db7",
   "metadata": {},
   "source": [
    "RegEx ex10"
   ]
  },
  {
   "cell_type": "code",
   "execution_count": 53,
   "id": "944eac69",
   "metadata": {},
   "outputs": [
    {
     "name": "stdout",
     "output_type": "stream",
     "text": [
      "_a_axc.adwe-Acas_d_asabbbxw-afe_acasabbx_aqw_das,eaabfabbbbcwe,g4tr\n"
     ]
    }
   ],
   "source": [
    "import re\n",
    "txt=\"_a_axc.adwe-Acas_d_asabbbxw-afeAcasabbxAqw_das,eaabfabbbbcwe,g4tr\"\n",
    "x = re.sub(\"([a-z])([A-Z])\",lambda match: match.group(1) + \"_\"+ match.group(2).lower(), txt)\n",
    "print(x)"
   ]
  },
  {
   "cell_type": "code",
   "execution_count": null,
   "id": "d786006b",
   "metadata": {},
   "outputs": [],
   "source": []
  }
 ],
 "metadata": {
  "kernelspec": {
   "display_name": "Python 3 (ipykernel)",
   "language": "python",
   "name": "python3"
  },
  "language_info": {
   "codemirror_mode": {
    "name": "ipython",
    "version": 3
   },
   "file_extension": ".py",
   "mimetype": "text/x-python",
   "name": "python",
   "nbconvert_exporter": "python",
   "pygments_lexer": "ipython3",
   "version": "3.9.13"
  }
 },
 "nbformat": 4,
 "nbformat_minor": 5
}
